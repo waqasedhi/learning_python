{
 "cells": [
  {
   "cell_type": "code",
   "execution_count": null,
   "metadata": {},
   "outputs": [],
   "source": [
    "''' 1-1. python.org: Explore the Python home page (https://python.org) to find topics that interest\n",
    "you. As you become familiar with Python, different parts of the site will be more useful to you. '''"
   ]
  },
  {
   "cell_type": "code",
   "execution_count": 1,
   "metadata": {},
   "outputs": [
    {
     "name": "stdout",
     "output_type": "stream",
     "text": [
      "hello wolrd!\n"
     ]
    }
   ],
   "source": [
    "'''1-2. Hello World Typos: Open the hello_world.py file you just created. Make a typo\n",
    "somewhere in the line and run the program again. Can you make a typo that generates an error?\n",
    "Can you make sense of the error message? Can you make a typo that doesn’t generate an error?\n",
    "Why do you think it didn’t make an error?'''\n",
    "\n",
    "print(\"hello wolrd!\")"
   ]
  },
  {
   "cell_type": "code",
   "execution_count": 3,
   "metadata": {},
   "outputs": [
    {
     "ename": "NameError",
     "evalue": "name 'name' is not defined",
     "output_type": "error",
     "traceback": [
      "\u001b[0;31m---------------------------------------------------------------------------\u001b[0m",
      "\u001b[0;31mNameError\u001b[0m                                 Traceback (most recent call last)",
      "Cell \u001b[0;32mIn[3], line 1\u001b[0m\n\u001b[0;32m----> 1\u001b[0m \u001b[38;5;28mprint\u001b[39m(\u001b[43mname\u001b[49m)\n",
      "\u001b[0;31mNameError\u001b[0m: name 'name' is not defined"
     ]
    }
   ],
   "source": [
    "print(name)#this error is becuase of variable is not defined "
   ]
  },
  {
   "cell_type": "markdown",
   "metadata": {},
   "source": [
    "**1-3.** Infinite Skills: If you had infinite programming skills, what would you build? You’re\n",
    "about to learn how to program. If you have an end goal in mind, you’ll have an immediate use\n",
    "for your new skills; now is a great time to write brief descriptions of what you want to create.\n",
    "It’s a good habit to keep an “ideas” notebook that you can refer to whenever you want to start a\n",
    "new project. Take a few minutes now to describe three programs you want to create.\n",
    "\n",
    "**Take a few minutes now to describe three programs you want to create**\n",
    "1. masjid locator in city\n",
    "2. accout book\n",
    "3. task and todo planner\n"
   ]
  }
 ],
 "metadata": {
  "kernelspec": {
   "display_name": "Python 3",
   "language": "python",
   "name": "python3"
  },
  "language_info": {
   "codemirror_mode": {
    "name": "ipython",
    "version": 3
   },
   "file_extension": ".py",
   "mimetype": "text/x-python",
   "name": "python",
   "nbconvert_exporter": "python",
   "pygments_lexer": "ipython3",
   "version": "3.10.12"
  }
 },
 "nbformat": 4,
 "nbformat_minor": 2
}
