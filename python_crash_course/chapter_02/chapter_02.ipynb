{
 "cells": [
  {
   "cell_type": "code",
   "execution_count": 2,
   "metadata": {},
   "outputs": [
    {
     "name": "stdout",
     "output_type": "stream",
     "text": [
      "Waqas Edhi is your name.\n"
     ]
    }
   ],
   "source": [
    "# 2-1. Simple Message: Assign a message to a variable, and then print that message.\n",
    "\n",
    "name = \"Waqas Edhi is your name.\"\n",
    "print(name)"
   ]
  },
  {
   "cell_type": "code",
   "execution_count": 5,
   "metadata": {},
   "outputs": [
    {
     "name": "stdout",
     "output_type": "stream",
     "text": [
      "how are you?\n",
      "what you like to eat today?\n"
     ]
    }
   ],
   "source": [
    "\"\"\"2-2. Simple Messages: Assign a message to a variable, and print that message. Then change the\n",
    "value of the variable to a new message, and print the new message.\"\"\"\n",
    "\n",
    "question = \"how are you?\"\n",
    "print(question)\n",
    "question =\"what you like to eat today?\"\n",
    "print(question)"
   ]
  },
  {
   "cell_type": "code",
   "execution_count": 1,
   "metadata": {},
   "outputs": [
    {
     "name": "stdout",
     "output_type": "stream",
     "text": [
      "Hello Eric, would you like to learn some Python today?\n"
     ]
    }
   ],
   "source": [
    "\"\"\"2-3. Personal Message: Use a variable to represent a person’s name, and print a message to\n",
    "that person. Your message should be simple, such as, “Hello Eric, would you like to learn some\n",
    "Python today?”\"\"\"\n",
    "\n",
    "person = \"eric\"\n",
    "print(f\"Hello {person.title()}, would you like to learn some Python today?\")\n"
   ]
  },
  {
   "cell_type": "code",
   "execution_count": 4,
   "metadata": {},
   "outputs": [
    {
     "name": "stdout",
     "output_type": "stream",
     "text": [
      "WAQAS EDHI\n",
      "waqas edhi\n",
      "Waqas Edhi\n"
     ]
    }
   ],
   "source": [
    "\"\"\"2-4. Name Cases: Use a variable to represent a person’s name, and then print that person’s\n",
    "name in lowercase, uppercase, and title case.\"\"\"\n",
    "\n",
    "name = \"Waqas Edhi\"\n",
    "print(name.upper())\n",
    "print(name.lower())\n",
    "print(name.title())"
   ]
  },
  {
   "cell_type": "code",
   "execution_count": 11,
   "metadata": {},
   "outputs": [
    {
     "name": "stdout",
     "output_type": "stream",
     "text": [
      "Horbert Samuel once said, \"A library is thought in clod storage\"\n"
     ]
    }
   ],
   "source": [
    "\"\"\"2-5. Famous Quote: Find a quote from a famous person you admire. Print the quote and the\n",
    "name of its author. Your output should look something like the following, including the\n",
    "quotation marks:\n",
    "Albert Einstein once said, “A person who never made a mistake never tried anything new.”\n",
    "\"\"\"\n",
    "\n",
    "print('Horbert Samuel once said, \"A library is thought in clod storage\"')"
   ]
  },
  {
   "cell_type": "code",
   "execution_count": 12,
   "metadata": {},
   "outputs": [
    {
     "name": "stdout",
     "output_type": "stream",
     "text": [
      "Horbert Samuel once said, \"A library is thought in clod storage\"\n"
     ]
    }
   ],
   "source": [
    "\"\"\"2-6. Famous Quote 2: Repeat Exercise 2-5, but this time, represent the famous person’s name\n",
    "using a variable called famous_person. Then compose your message and represent it with a\n",
    "new variable called message. Print your message.\n",
    "\"\"\"\n",
    "famous_person = \"Horbert Samuel\"\n",
    "message = \"A library is thought in clod storage\"\n",
    "print(f'{famous_person} once said, \"{message}\"')"
   ]
  },
  {
   "cell_type": "code",
   "execution_count": 7,
   "metadata": {},
   "outputs": [
    {
     "name": "stdout",
     "output_type": "stream",
     "text": [
      "Waqas Edhi   \n",
      "\n",
      "\t Waqas Edhi\n",
      "Waqas Edhi\n"
     ]
    },
    {
     "data": {
      "text/plain": [
       "'Waqas Edhi   \\n'"
      ]
     },
     "metadata": {},
     "output_type": "display_data"
    },
    {
     "data": {
      "text/plain": [
       "'\\t Waqas Edhi'"
      ]
     },
     "metadata": {},
     "output_type": "display_data"
    },
    {
     "data": {
      "text/plain": [
       "'Waqas Edhi'"
      ]
     },
     "metadata": {},
     "output_type": "display_data"
    }
   ],
   "source": [
    "\"\"\"2-7. Stripping Names: Use a variable to represent a person’s name, and include some\n",
    "whitespace characters at the beginning and end of the name. Make sure you use each character\n",
    "combination, \"\\t\" and \"\\n\", at least once.\n",
    "Print the name once, so the whitespace around the name is displayed. Then print the name\n",
    "using each of the three stripping functions, lstrip(), rstrip(), and strip().\"\"\"\n",
    "\n",
    "name27 = \"\\t Waqas Edhi   \\n\"\n",
    "print(name27.lstrip())\n",
    "print(name27.rstrip())\n",
    "print(name27.strip())\n",
    "display(name27.lstrip())\n",
    "display(name27.rstrip())\n",
    "display(name27.strip())"
   ]
  },
  {
   "cell_type": "code",
   "execution_count": 8,
   "metadata": {},
   "outputs": [
    {
     "data": {
      "text/plain": [
       "'python_notes'"
      ]
     },
     "metadata": {},
     "output_type": "display_data"
    }
   ],
   "source": [
    "'''2-8. File Extensions: Python has a removesuffix() method that works exactly like\n",
    "removeprefix(). Assign the value 'python_notes.txt' to a variable called filename. Then\n",
    "use the removesuffix() method to display the filename without the file extension, like some\n",
    "file browsers do.'''\n",
    "\n",
    "file_name = 'python_notes.txt'\n",
    "display(file_name.removesuffix('.txt'))"
   ]
  },
  {
   "cell_type": "code",
   "execution_count": 9,
   "metadata": {},
   "outputs": [
    {
     "name": "stdout",
     "output_type": "stream",
     "text": [
      "8\n",
      "8\n",
      "8\n",
      "8.0\n"
     ]
    }
   ],
   "source": [
    "\"\"\"2-9. Number Eight: Write addition, subtraction, multiplication, and division operations that\n",
    "each result in the number 8. Be sure to enclose your operations in print() calls to see the\n",
    "results. You should create four lines that look like this:\n",
    "print(5+3)\n",
    "Your output should be four lines, with the number 8 appearing once on each line.\n",
    "\"\"\"\n",
    "\n",
    "print(4+4)\n",
    "print(11-3)\n",
    "print(4*2)\n",
    "print(56/7)"
   ]
  },
  {
   "cell_type": "code",
   "execution_count": 10,
   "metadata": {},
   "outputs": [
    {
     "name": "stdout",
     "output_type": "stream",
     "text": [
      "my favorite number is 7\n"
     ]
    }
   ],
   "source": [
    "\"\"\"2-10. Favorite Number: Use a variable to represent your favorite number. Then, using that\n",
    "variable, create a message that reveals your favorite number. Print that message.\"\"\"\n",
    "\n",
    "favorite_number = 7\n",
    "print(f\"my favorite number is {favorite_number}\")"
   ]
  },
  {
   "cell_type": "code",
   "execution_count": 11,
   "metadata": {},
   "outputs": [
    {
     "name": "stdout",
     "output_type": "stream",
     "text": [
      "Hello, world!\n"
     ]
    }
   ],
   "source": [
    "\"\"\"2-11. Adding Comments: Choose two of the programs you’ve written, and add at least one\n",
    "comment to each. If you don’t have anything specific to write because your programs are too\n",
    "simple at this point, just add your name and the current date at the top of each program file.\n",
    "Then write one sentence describing what the program does.\"\"\"\n",
    "\n",
    "# This program is written by Waqas Edhi on May 29, 2024.\n",
    "# It prints a greeting message.\n",
    "\n",
    "print(\"Hello, world!\")"
   ]
  },
  {
   "cell_type": "code",
   "execution_count": 12,
   "metadata": {},
   "outputs": [
    {
     "name": "stdout",
     "output_type": "stream",
     "text": [
      "The Zen of Python, by Tim Peters\n",
      "\n",
      "Beautiful is better than ugly.\n",
      "Explicit is better than implicit.\n",
      "Simple is better than complex.\n",
      "Complex is better than complicated.\n",
      "Flat is better than nested.\n",
      "Sparse is better than dense.\n",
      "Readability counts.\n",
      "Special cases aren't special enough to break the rules.\n",
      "Although practicality beats purity.\n",
      "Errors should never pass silently.\n",
      "Unless explicitly silenced.\n",
      "In the face of ambiguity, refuse the temptation to guess.\n",
      "There should be one-- and preferably only one --obvious way to do it.\n",
      "Although that way may not be obvious at first unless you're Dutch.\n",
      "Now is better than never.\n",
      "Although never is often better than *right* now.\n",
      "If the implementation is hard to explain, it's a bad idea.\n",
      "If the implementation is easy to explain, it may be a good idea.\n",
      "Namespaces are one honking great idea -- let's do more of those!\n"
     ]
    }
   ],
   "source": [
    "\"\"\"2-12. Zen of Python: Enter import this into a Python terminal session and skim through the\n",
    "additional principles.\"\"\"\n",
    "\n",
    "import this"
   ]
  },
  {
   "cell_type": "markdown",
   "metadata": {},
   "source": [
    "The Zen of Python, by Tim Peters\n",
    "\n",
    "Beautiful is better than ugly.\n",
    "\n",
    "Explicit is better than implicit.\n",
    "\n",
    "Simple is better than complex.\n",
    "\n",
    "Complex is better than complicated.\n",
    "\n",
    "Flat is better than nested.\n",
    "\n",
    "Sparse is better than dense.\n",
    "\n",
    "Readability counts.\n",
    "\n",
    "Special cases aren't special enough to break the rules.\n",
    "\n",
    "Although practicality beats purity.\n",
    "\n",
    "Errors should never pass silently.\n",
    "\n",
    "Unless explicitly silenced.\n",
    "\n",
    "In the face of ambiguity, refuse the temptation to guess.\n",
    "\n",
    "There should be one-- and preferably only one --obvious way to do it.\n",
    "\n",
    "Although that way may not be obvious at first unless you're Dutch.\n",
    "\n",
    "Now is better than never.\n",
    "\n",
    "Although never is often better than *right* now.\n",
    "\n",
    "If the implementation is hard to explain, it's a bad idea.\n",
    "\n",
    "If the implementation is easy to explain, it may be a good idea.\n",
    "\n",
    "Namespaces are one honking great idea -- let's do more of those!"
   ]
  }
 ],
 "metadata": {
  "kernelspec": {
   "display_name": "Python 3",
   "language": "python",
   "name": "python3"
  },
  "language_info": {
   "codemirror_mode": {
    "name": "ipython",
    "version": 3
   },
   "file_extension": ".py",
   "mimetype": "text/x-python",
   "name": "python",
   "nbconvert_exporter": "python",
   "pygments_lexer": "ipython3",
   "version": "3.10.12"
  }
 },
 "nbformat": 4,
 "nbformat_minor": 2
}
