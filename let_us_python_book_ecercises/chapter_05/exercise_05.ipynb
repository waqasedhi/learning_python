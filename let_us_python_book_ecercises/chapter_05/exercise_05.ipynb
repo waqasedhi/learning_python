{
 "cells": [
  {
   "cell_type": "markdown",
   "metadata": {},
   "source": [
    "# [A] Answer the following questions:"
   ]
  },
  {
   "cell_type": "code",
   "execution_count": 1,
   "metadata": {},
   "outputs": [
    {
     "name": "stdout",
     "output_type": "stream",
     "text": [
      "Morning\n",
      "True 20\n"
     ]
    }
   ],
   "source": [
    "# (a) Write conditional expressions for\n",
    "# - If a < 10 b = 20, else b = 30\n",
    "# - Print 'Morning' if time < 12, otherwise print 'Afternoon'\n",
    "# - If marks >= 70, set remarks to True, otherwise False\n",
    "a=0\n",
    "if a < 10:\n",
    "    b = 20\n",
    "else:\n",
    "    b = 30\n",
    "\n",
    "time = 11\n",
    "if time < 12:\n",
    "    print(\"Morning\")\n",
    "else:\n",
    "    print(\"Afternoon\")\n",
    "\n",
    "marks = 71\n",
    "remarks = None\n",
    "\n",
    "if marks >= 70:\n",
    "    remarks = True\n",
    "else:\n",
    "    remarks = False\n",
    "\n",
    "print(remarks, b)\n"
   ]
  },
  {
   "cell_type": "code",
   "execution_count": 2,
   "metadata": {},
   "outputs": [
    {
     "name": "stdout",
     "output_type": "stream",
     "text": [
      "x and y are equal\n"
     ]
    }
   ],
   "source": [
    "\"\"\"(b) Rewrite the following code snippet in 1 line:\n",
    "x=3\n",
    "y = 3.0\n",
    "if x == y :\n",
    "print('x and y are equal')\n",
    "else :\n",
    "print('x and y are not equal')\"\"\"\n",
    "x = 3\n",
    "y = 3.0\n",
    "print('x and y are equal') if x == y else print('x and y are not equal')\n"
   ]
  },
  {
   "cell_type": "markdown",
   "metadata": {},
   "source": [
    "(c) What happens when a pass statement is executed?\n",
    "\n",
    "a pass statment is executed it execute null statment."
   ]
  },
  {
   "cell_type": "code",
   "execution_count": 3,
   "metadata": {},
   "outputs": [
    {
     "data": {
      "text/plain": [
       "'[B] What will be the output of the following programs:\\n(a) i, j, k = 4, -1, 0\\n    w = i or j or k\\n    x = i and j and k\\n    y = i or j and k\\n    z = i and j or k\\n    print(w, x, y, z)\\n\\n    4 0 4 -1\\n\\n(b) a = 10\\n    a = not not a\\n    print(a)\\n\\n    True\\n\\n\\n(c) x, y, z = 20, 40, 45\\n    if x > y and x > z : f\\n        print(\\'biggest = \\' + str(x))\\n    elif y > x and y > z : f\\n        print(\\'biggest = \\' + str(y))\\n    elif z > x and z > y : t\\n        print(\\'biggest = \\' + str(z))\\n\\n    biggest = 45\\n\\n    \\n(d) num = 30\\n    k = 100 if num <= 10 else 500\\n    print(k)\\n\\n    error not correct \\n    500 is correct answer\\n\\n(e) a = 10\\n    b = 60\\n    if a and b > 20 :\\n        print(\\'Hello\\')\\n    else :\\n        print(\\'Hi\\')\\n\\n    Hi not correct \\n    Hello is correct\\n\\n(f) a = 10\\n    b = 60\\n    if a > 20 and b > 20 :\\n        print(\\'Hello\\')\\n    else :\\n        print(\\'Hi\\')\\n\\n    Hi\\n\\n(g) a = 10\\n    if a = 30 or 40 or 60 :\\n        print(\\'Hello\\')\\n    else :\\n        print(\\'Hi\\')\\n\\n    error\\n\\n(h) a = 10\\n    if a = 30 or a == 40 or a == 60 :\\n        print(\\'Hello\\')\\n    else :\\n        print(\\'Hi\\')\\n\\n    error\\n        \\n(i) a = 10\\n    if a in (30, 40, 50) :\\n        print(\\'Hello\\')\\n    else :\\n        print(\\'Hi\\')\\n        \\n    Hi\\n\\n\\n[C] Point out the errors, if any, in the following programs:\\n\\n\\n(a) a = 12.25\\n    b = 12.52\\n    if a = b : #not have comparsion sign\\n        print(\\'a and b are equal\\')\\n\\n(b) if ord(\\'X\\') < ord(\\'x\\')  # not use \":\" to end statement\\n        print(\\'Unicode value of X is smaller than that of x\\')\\n\\n(c) x = 10\\n    if x >= 2 then   # not use \":\" to end statement\\n        print(\\'x\\')\\n(d) x = 10 ; y = 15\\n    if x % 2 = y % 3    # not use \":\" to end statement\\n        print(\\'Carpathians\\n\\')\\n(e) x, y = 30, 40\\n    if x == y :\\n        print(\\'x is equal to y\\')\\n    elseif x > y :  use elseif instent of elif\\n        print(\\'x is greater than y\\')\\n    elseif x < y :\\n        print(\\'x is less than y\\')\\n\\n[D] If a = 10, b = 12, c = 0, find the values of the following expressions:\\na != 6 and b > 5    # True\\na == 9 or b < 3     # False \\nnot ( a < 10 )      # True\\nnot ( a > 5 and c ) # True\\n5 and c != 8 or !c  # error\\n\\n'"
      ]
     },
     "execution_count": 3,
     "metadata": {},
     "output_type": "execute_result"
    }
   ],
   "source": [
    "\"\"\"[B] What will be the output of the following programs:\n",
    "(a) i, j, k = 4, -1, 0\n",
    "    w = i or j or k\n",
    "    x = i and j and k\n",
    "    y = i or j and k\n",
    "    z = i and j or k\n",
    "    print(w, x, y, z)\n",
    "\n",
    "    4 0 4 -1\n",
    "\n",
    "(b) a = 10\n",
    "    a = not not a\n",
    "    print(a)\n",
    "\n",
    "    True\n",
    "\n",
    "\n",
    "(c) x, y, z = 20, 40, 45\n",
    "    if x > y and x > z : f\n",
    "        print('biggest = ' + str(x))\n",
    "    elif y > x and y > z : f\n",
    "        print('biggest = ' + str(y))\n",
    "    elif z > x and z > y : t\n",
    "        print('biggest = ' + str(z))\n",
    "\n",
    "    biggest = 45\n",
    "\n",
    "    \n",
    "(d) num = 30\n",
    "    k = 100 if num <= 10 else 500\n",
    "    print(k)\n",
    "\n",
    "    error not correct \n",
    "    500 is correct answer\n",
    "\n",
    "(e) a = 10\n",
    "    b = 60\n",
    "    if a and b > 20 :\n",
    "        print('Hello')\n",
    "    else :\n",
    "        print('Hi')\n",
    "\n",
    "    Hi not correct \n",
    "    Hello is correct\n",
    "\n",
    "(f) a = 10\n",
    "    b = 60\n",
    "    if a > 20 and b > 20 :\n",
    "        print('Hello')\n",
    "    else :\n",
    "        print('Hi')\n",
    "\n",
    "    Hi\n",
    "\n",
    "(g) a = 10\n",
    "    if a = 30 or 40 or 60 :\n",
    "        print('Hello')\n",
    "    else :\n",
    "        print('Hi')\n",
    "\n",
    "    error\n",
    "\n",
    "(h) a = 10\n",
    "    if a = 30 or a == 40 or a == 60 :\n",
    "        print('Hello')\n",
    "    else :\n",
    "        print('Hi')\n",
    "\n",
    "    error\n",
    "        \n",
    "(i) a = 10\n",
    "    if a in (30, 40, 50) :\n",
    "        print('Hello')\n",
    "    else :\n",
    "        print('Hi')\n",
    "        \n",
    "    Hi\n",
    "\n",
    "\n",
    "[C] Point out the errors, if any, in the following programs:\n",
    "\n",
    "\n",
    "(a) a = 12.25\n",
    "    b = 12.52\n",
    "    if a = b : #not have comparsion sign\n",
    "        print('a and b are equal')\n",
    "\n",
    "(b) if ord('X') < ord('x')  # not use \":\" to end statement\n",
    "        print('Unicode value of X is smaller than that of x')\n",
    "\n",
    "(c) x = 10\n",
    "    if x >= 2 then   # not use \":\" to end statement\n",
    "        print('x')\n",
    "(d) x = 10 ; y = 15\n",
    "    if x % 2 = y % 3    # not use \":\" to end statement\n",
    "        print('Carpathians\\n')\n",
    "(e) x, y = 30, 40\n",
    "    if x == y :\n",
    "        print('x is equal to y')\n",
    "    elseif x > y :  use elseif instent of elif\n",
    "        print('x is greater than y')\n",
    "    elseif x < y :\n",
    "        print('x is less than y')\n",
    "\n",
    "[D] If a = 10, b = 12, c = 0, find the values of the following expressions:\n",
    "a != 6 and b > 5    # True\n",
    "a == 9 or b < 3     # False \n",
    "not ( a < 10 )      # True\n",
    "not ( a > 5 and c ) # True\n",
    "5 and c != 8 or !c  # error\n",
    "\n",
    "\"\"\""
   ]
  },
  {
   "cell_type": "markdown",
   "metadata": {},
   "source": [
    "# [E] Attempt the following questions:"
   ]
  },
  {
   "cell_type": "code",
   "execution_count": null,
   "metadata": {},
   "outputs": [],
   "source": [
    "# (a) Any integer is input through the keyboard. Write a program to find out whether it is an odd number or even number.\n",
    "\n",
    "u_input= int(input(\"give any number\"))\n",
    "\n",
    "if (u_input%2) == 0 :\n",
    "    print(\"odd number\")\n",
    "else:\n",
    "    print(\"even number\")\n"
   ]
  },
  {
   "cell_type": "code",
   "execution_count": null,
   "metadata": {},
   "outputs": [],
   "source": [
    "# (b) Any year is input through the keyboard. Write a program to determine whether the year is a leap year or not.\n",
    "\n",
    "year_input = int(input(\"give year number\"))\n",
    "if (year_input%4)== 0:\n",
    "    if ((year_input%100)==0) and ((year_input%400)!= 0):\n",
    "        print(\"not leap year\")\n",
    "    else:\n",
    "        print(\"leap year\")\n",
    "\n"
   ]
  },
  {
   "cell_type": "code",
   "execution_count": null,
   "metadata": {},
   "outputs": [],
   "source": [
    "# (c) If ages of Ram, Shyam and Ajay are input through the keyboard, write a program to determine the youngest of the three.\n",
    "\n",
    "ram_age = int(input(\"give year number\"))\n",
    "shyam_age = int(input(\"give year number\"))\n",
    "ajay_age = int(input(\"give year number\"))\n",
    "\n",
    "if ram_age < shyam_age and ram_age < ajay_age:\n",
    "    print(\"ram is youngest among three\")\n",
    "elif ajay_age < shyam_age and ram_age > ajay_age:\n",
    "    print(\"ajay is youngest among three\")\n",
    "else:\n",
    "    print(\"shyam is youngest among three\")\n",
    "\n"
   ]
  },
  {
   "cell_type": "code",
   "execution_count": 6,
   "metadata": {},
   "outputs": [
    {
     "name": "stdout",
     "output_type": "stream",
     "text": [
      "this is not trianlge\n"
     ]
    }
   ],
   "source": [
    "# (d) Write a program to check whether a triangle is valid or not, when the three angles of the triangle are entered through the keyboard. A triangle is valid if the sum of all the three angles is equal to 180 degrees.\n",
    "\n",
    "side1 = int(input(\"give angle in number\"))\n",
    "side2 = int(input(\"give angle in number\"))\n",
    "side3 = int(input(\"give angle in number\"))\n",
    "\n",
    "if (side1 + side2 + side3) == 180:\n",
    "    print(\"this is triangle\")\n",
    "else:\n",
    "    print(\"this is not trianlge\")"
   ]
  },
  {
   "cell_type": "code",
   "execution_count": null,
   "metadata": {},
   "outputs": [],
   "source": [
    "# (e) Write a program to find the absolute value of a number entered through the keyboard."
   ]
  },
  {
   "cell_type": "code",
   "execution_count": 9,
   "metadata": {},
   "outputs": [
    {
     "name": "stdout",
     "output_type": "stream",
     "text": [
      "length =  45 and breadth = 45 its not perimeter\n"
     ]
    }
   ],
   "source": [
    "# (f) Given the length and breadth of a rectangle, write a program to find whether the area of the rectangle is greater than its perimeter. For example, the area of the rectangle with length = 5 and breadth = 4 is greater than its perimeter.\n",
    "\n",
    "length = int(input(\"give length in number\"))\n",
    "breadth = int(input(\"give breadth in number\"))\n",
    "\n",
    "if length > breadth or breadth > length:\n",
    "    print(\"length = \",length, \"and breadth =\", breadth,\"its perimeter\")\n",
    "else:\n",
    "    print(\"length = \",length, \"and breadth =\", breadth,\"its not perimeter\")"
   ]
  },
  {
   "cell_type": "code",
   "execution_count": null,
   "metadata": {},
   "outputs": [],
   "source": [
    "# (g) Given three points (x1, y1), (x2, y2) and (x3, y3), write a program to check if all the three points fall on one straight line.\n",
    "\n"
   ]
  },
  {
   "cell_type": "code",
   "execution_count": null,
   "metadata": {},
   "outputs": [],
   "source": [
    "# (h) Given the coordinates (x, y) of center of a circle and its radius, write a program that will determine whether a point lies inside the circle, on the circle or outside the circle. (Hint: Use sqrt( ) and pow( ) functions)"
   ]
  },
  {
   "cell_type": "code",
   "execution_count": null,
   "metadata": {},
   "outputs": [],
   "source": [
    "# (i)Given a point (x, y), write a program to find out if it lies on the X-\n",
    "# axis, Y-axis or on the origin."
   ]
  },
  {
   "cell_type": "code",
   "execution_count": null,
   "metadata": {},
   "outputs": [],
   "source": [
    "# (j)A year is entered through the keyboard, write a program to\n",
    "# determine whether the year is leap or not. Use the logical operators\n",
    "# and and or."
   ]
  },
  {
   "cell_type": "code",
   "execution_count": null,
   "metadata": {},
   "outputs": [],
   "source": [
    "# (k) If the three sides of a triangle are entered through the keyboard,\n",
    "# write a program to check whether the triangle is valid or not. The\n",
    "# triangle is valid if the sum of two sides is greater than the largest of\n",
    "# the three sides."
   ]
  },
  {
   "cell_type": "code",
   "execution_count": 10,
   "metadata": {},
   "outputs": [],
   "source": [
    "# (l) If the three sides of a triangle are entered through the keyboard,\n",
    "# write a program to check whether the triangle is isosceles,\n",
    "# equilateral, scalene or right angled triangle."
   ]
  },
  {
   "cell_type": "code",
   "execution_count": null,
   "metadata": {},
   "outputs": [],
   "source": []
  },
  {
   "cell_type": "code",
   "execution_count": null,
   "metadata": {},
   "outputs": [],
   "source": []
  },
  {
   "cell_type": "code",
   "execution_count": null,
   "metadata": {},
   "outputs": [],
   "source": []
  }
 ],
 "metadata": {
  "kernelspec": {
   "display_name": "Python 3",
   "language": "python",
   "name": "python3"
  },
  "language_info": {
   "codemirror_mode": {
    "name": "ipython",
    "version": 3
   },
   "file_extension": ".py",
   "mimetype": "text/x-python",
   "name": "python",
   "nbconvert_exporter": "python",
   "pygments_lexer": "ipython3",
   "version": "3.10.12"
  }
 },
 "nbformat": 4,
 "nbformat_minor": 2
}
