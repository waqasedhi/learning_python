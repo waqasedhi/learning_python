{
 "cells": [
  {
   "cell_type": "markdown",
   "metadata": {},
   "source": [
    "# [A] Answer the following questions:"
   ]
  },
  {
   "cell_type": "code",
   "execution_count": 4,
   "metadata": {},
   "outputs": [
    {
     "name": "stdout",
     "output_type": "stream",
     "text": [
      "1  S h\n",
      "2  a n\n",
      "3  enanigan\n",
      "4  Shenan\n",
      "5  Shenan\n",
      "6  Shenan\n",
      "7  Shenan\n",
      "8  Shenanigan\n",
      "9  Seaia\n",
      "10  Snin\n",
      "11  Saa\n",
      "12  Shenanigantype\n",
      "13  ShenanWabbite\n"
     ]
    }
   ],
   "source": [
    "\"\"\"\n",
    "(a) Write a program that generates the following output from the string\n",
    "'Shenanigan'.\n",
    "1 Sh\n",
    "2 an\n",
    "3 enanigan\n",
    "4 Shenan\n",
    "5 Shenan\n",
    "6 Shenan\n",
    "7 Shenan\n",
    "8 Shenanigan\n",
    "9 Seaia\n",
    "10 Snin\n",
    "11 Saa\n",
    "12 ShenaniganType\n",
    "13 ShenanWabbite\n",
    "\"\"\"\n",
    "s = 'Shenanigan'\n",
    "# extract S h\n",
    "print(\"1 \",s[0], s[1])\n",
    "\n",
    "# extract a n\n",
    "print(\"2 \",s[8], s[9])\n",
    "\n",
    "# extract enanigan\n",
    "print(\"3 \",s[2:10])\n",
    "\n",
    "# extract Shenan\n",
    "print(\"4 \",s[0:6])\n",
    "print(\"5 \",s[:6])\n",
    "print(\"6 \",s[-10:-4])\n",
    "print(\"7 \",s[:-4])\n",
    "\n",
    "# extract Shenanigan\n",
    "print(\"8 \",s[0::1])\n",
    "\n",
    "# extract Seaia\n",
    "print(\"9 \",s[0::2])\n",
    "\n",
    "# extract Snin\n",
    "print(\"10 \",s[0::3])\n",
    "\n",
    "# extract Saa\n",
    "print(\"11 \",s[0::4])\n",
    "\n",
    "s = s + 'type'\n",
    "print(\"12 \",s)\n",
    "s = s[:6] + 'Wabbite'\n",
    "print(\"13 \",s)"
   ]
  },
  {
   "cell_type": "code",
   "execution_count": 5,
   "metadata": {},
   "outputs": [
    {
     "name": "stdout",
     "output_type": "stream",
     "text": [
      "Visit Ykanetkar.Com For Online Courses In Programming\n"
     ]
    }
   ],
   "source": [
    "\"\"\"(b) Write a program to convert the following string\n",
    "'Visit ykanetkar.com for online courses in programming'\n",
    "into\n",
    "'Visit Ykanetkar.com For Online Courses In Programming'\"\"\"\n",
    "\n",
    "s2 = 'Visit ykanetkar.com for online courses in programming'\n",
    "print(s2.title())"
   ]
  },
  {
   "cell_type": "code",
   "execution_count": 18,
   "metadata": {},
   "outputs": [
    {
     "name": "stdout",
     "output_type": "stream",
     "text": [
      "LIGHT travels faster than SOUND. This is why some people appearbright until you hear them speak.\n"
     ]
    }
   ],
   "source": [
    "\"\"\"(c) Write a program to convert the following string\n",
    "'Light travels faster than sound. This is why some people appear\n",
    "bright until you hear them speak.'\n",
    "into\n",
    "'LIGHT travels faster than SOUND. This is why some people appear\n",
    "bright until you hear them speak.'\n",
    "\"\"\"\n",
    "\n",
    "s3 = 'Light travels faster than sound. This is why some people appear\\\n",
    "bright until you hear them speak.'\n",
    "\n",
    "new_s3 = f\"\"\"{s3[s3.find(\"Light\"):5].upper()}{s3[5:s3.find('sound')]}{s3[s3.find('sound'):s3.find('sound')+5].upper()}{s3[s3.find('sound')+5:]}\"\"\"\n",
    "print(new_s3)\n"
   ]
  },
  {
   "cell_type": "markdown",
   "metadata": {},
   "source": [
    "(d) What will be the output of the following program?\n",
    "\n",
    "s = 'HumptyDumpty'\n",
    "|program| output|\n",
    "|---|:---:|\n",
    "|print('s = ', s)| s = HumptyDumpty\n",
    "|print(s.isalpha( ))|True\n",
    "|print(s.isdigit( ))|False\n",
    "|print(s.isalnum( ))|True\n",
    "|print(s.islower( ))|False\n",
    "|print(s.isupper( ))|False\n",
    "|print(s.startswith('Hump'))|True\n",
    "|print(s.endswith('Dump'))|False"
   ]
  },
  {
   "cell_type": "markdown",
   "metadata": {},
   "source": [
    "(e) What is the purpose of a raw string?\n",
    "\n",
    "Special characters can be retained in a string by either escaping\n",
    "them or by marking the string as a raw string."
   ]
  },
  {
   "cell_type": "code",
   "execution_count": 20,
   "metadata": {},
   "outputs": [
    {
     "name": "stdout",
     "output_type": "stream",
     "text": [
      "['The', 'difference', 'between', 'stupidity', 'and', 'genius', 'is', 'that', 'genius', 'has', 'its', 'limits']\n"
     ]
    }
   ],
   "source": [
    "\"\"\"(f) If we wish to work with an individual word in the following string,\n",
    "how will you separate them out:\n",
    "'The difference between stupidity and genius is that genius has its\n",
    "limits'\n",
    "\"\"\"\n",
    "\n",
    "s6 = 'The difference between stupidity and genius is that genius has its limits'\n",
    "print(s6.split(\" \"))"
   ]
  },
  {
   "cell_type": "code",
   "execution_count": 21,
   "metadata": {},
   "outputs": [
    {
     "name": "stdout",
     "output_type": "stream",
     "text": [
      "He said, \"Let Us Python\"\n",
      "He said, \"Let Us Python\"\n"
     ]
    }
   ],
   "source": [
    "# (g) Mention two ways to store a string: He said, \"Let Us Python\".\n",
    "\n",
    "s7a = R'He said, \"Let Us Python\"'\n",
    "s7b = 'He said, \"Let Us Python\"'\n",
    "print(s7a)\n",
    "print(s7b)"
   ]
  },
  {
   "cell_type": "markdown",
   "metadata": {},
   "source": [
    "\n",
    "(h) What will be the output of following code snippet?\n",
    "|program| output|\n",
    "|---|:---:|\n",
    "|print(id('Imaginary'))| id number as per system|\n",
    "|print(type('Imaginary'))| class 'str'|\n",
    "\n",
    "(i) What will be the output of the following code snippet?\n",
    "\n",
    "s3 = 'C:\\\\Users\\\\Kanetkar\\\\Documents'\n",
    "|program| output|\n",
    "|---|:---:|\n",
    "|print(s3.split('\\\\'))|['C:', 'Users', 'Kanetkar', 'Documents']|\n",
    "|print(s3.partition('\\\\'))|('C:', '\\\\', 'Users\\\\Kanetkar\\\\Documents')|\n",
    "\n",
    "\n",
    "(j) Strings in Python are iterable, sliceable and immutable. (True/False)\n",
    "\n",
    "True"
   ]
  },
  {
   "cell_type": "code",
   "execution_count": 24,
   "metadata": {},
   "outputs": [
    {
     "name": "stdout",
     "output_type": "stream",
     "text": [
      "TraPoete\n"
     ]
    }
   ],
   "source": [
    "\n",
    "# (k) How will you extract ' TraPoete' from the string 'ThreadProperties'?\n",
    "\n",
    "s11 = 'ThreadProperties'\n",
    "print(s11[::2])"
   ]
  },
  {
   "cell_type": "code",
   "execution_count": 25,
   "metadata": {},
   "outputs": [
    {
     "name": "stdout",
     "output_type": "stream",
     "text": [
      "Flanked by spaces on either side\n"
     ]
    }
   ],
   "source": [
    "\"\"\"(l) How will you eliminate spaces on either side of the string '   Flanked\n",
    "by spaces on either side  '?\"\"\"\n",
    "\n",
    "s12 ='   Flanked by spaces on either side  '\n",
    "s12 = s12.strip()\n",
    "print(s12)"
   ]
  },
  {
   "cell_type": "markdown",
   "metadata": {},
   "source": [
    "(m) What will be the output of the following code snippet?\n",
    "\n",
    "s1 = s2 = s3 = \"Hello\"\n",
    "\n",
    "print(id(s1), id(s2), id(s3))\n",
    "\n",
    "same id number for each variable as per system\n",
    "\n",
    "\n",
    "(n) What will get stored in ch in the following code snippet:\n",
    "\n",
    "msg = 'Aeroplane'\n",
    "\n",
    "ch = msg[-0]\n",
    "\n",
    "print result will be 'A'."
   ]
  },
  {
   "cell_type": "markdown",
   "metadata": {},
   "source": [
    "[B] Match the following pairs assuming msg = 'Keep yourself warm'\n",
    "\n",
    "|programe | match with|\n",
    "|----|----|\n",
    "|a. msg.partition(' ')|1. 18|\n",
    "|b. msg.split(' ')|2. kEEP YOURSELF WARM\n",
    "|c. msg.startswith('Keep')|3. Keep yourself warm\n",
    "|d. msg.endswith('Keep')|4. 3\n",
    "|e. msg.swapcase( )|5. True\n",
    "|f. msg.capitalize( ) |6. False\n",
    "|g. msg.count('e')|7. ['Keep', 'yourself', 'warm']\n",
    "|h. len(msg)|8. ('Keep', ' ', 'yourself warm')\n",
    "|i. msg[0]|9. Keep yourself w\n",
    "|j. msg[-1]|10. keep yourself wa\n",
    "|k. msg[1:1:1]|11. K\n",
    "|l. msg[-1:3]|12. empty string\n",
    "|m. msg[:-3]|13. m\n",
    "|n. msg[-3:]|14. arm\n",
    "|o. msg[0:-2] |15. empty string\n",
    "\n",
    "Result:\n",
    "|programe | match with|\n",
    "|----|----|\n",
    "|a. msg.partition(' ')|8. ('Keep', ' ', 'yourself warm') \n",
    "|b. msg.split(' ')|7. ['Keep', 'yourself', 'warm']\n",
    "|c. msg.startswith('Keep')|5. True  \n",
    "|d. msg.endswith('Keep')|6. False  \n",
    "|e. msg.swapcase( )|2. kEEP YOURSELF WARM\n",
    "|f. msg.capitalize( ) |3. Keep yourself warm  \n",
    "|g. msg.count('e')|4. 3\n",
    "|h. len(msg)|1. 18|\n",
    "|i. msg[0]|11. K\n",
    "|j. msg[-1]|13. m\n",
    "|k. msg[1:1:1]|12. empty string\n",
    "|l. msg[-1:3]|15. empty string\n",
    "|m. msg[:-3]|9. Keep yourself w \n",
    "|n. msg[-3:]|14. arm\n",
    "|o. msg[0:-2] |10. keep yourself wa\n",
    "\n",
    "\n"
   ]
  },
  {
   "cell_type": "code",
   "execution_count": null,
   "metadata": {},
   "outputs": [],
   "source": []
  }
 ],
 "metadata": {
  "kernelspec": {
   "display_name": "Python 3",
   "language": "python",
   "name": "python3"
  },
  "language_info": {
   "codemirror_mode": {
    "name": "ipython",
    "version": 3
   },
   "file_extension": ".py",
   "mimetype": "text/x-python",
   "name": "python",
   "nbconvert_exporter": "python",
   "pygments_lexer": "ipython3",
   "version": "3.10.12"
  }
 },
 "nbformat": 4,
 "nbformat_minor": 2
}
