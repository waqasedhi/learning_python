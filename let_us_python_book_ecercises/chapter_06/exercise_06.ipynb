{
 "cells": [
  {
   "cell_type": "markdown",
   "metadata": {},
   "source": [
    "### [A] Answer the following questions:"
   ]
  },
  {
   "cell_type": "markdown",
   "metadata": {},
   "source": [
    "**(a) When does the else block of a while loop go to work?**\n",
    "\n",
    "The else block in a while loop executes only once when the while loop's condition becomes False. It doesn't execute after each iteration.\n",
    "\n",
    "**(b) Can range( ) function be used to generate numbers from 0.1 to 1.0 in steps of 0.1?**\n",
    "\n",
    "The range() function in Python doesn't directly generate sequences with floating-point steps. This is because range() creates an integer sequence.\n",
    "\n",
    "**(c) Can a while loop be nested within a for loop and vice versa?**\n",
    "\n",
    "Yes: We can nest while loops within for loops, and vice versa. This creates nested control flow structures for complex tasks.\n",
    "\n",
    "**(d) Can a while/for loop be used in an if/else and vice versa?**\n",
    "\n",
    "Yes: We can use while or for loops within if or else statements, and vice versa. This allows for conditional execution of loops.\n",
    "\n",
    "**(e) Can a do-while loop be used to repeat a set of statements?**\n",
    "\n",
    "Unlike many other languages, Python doesn't have a built-in do-while loop.\n",
    "\n",
    "**(f) How will you write an equivalent for loop for the following:**\n",
    "```python\n",
    "count = 1\n",
    "while count <= 10 :\n",
    "print(count)\n",
    "count = count + 1\n",
    "```\n",
    "answer\n",
    "\n",
    "```python\n",
    "for i in range(10):\n",
    "    print(i)\n",
    "```\n",
    "\n",
    "**(g) What will be the output of the following code snippet?**\n",
    "```python\n",
    "for index in range(20, 10, -3) :\n",
    "    print(index, end = ' ')\n",
    "```\n",
    "answer 20 17 14 11\n",
    "\n",
    "**(h) Why should break and continue be always used with an if embedded in a while or for loop?**\n",
    "\n",
    "break and continue statements are not always used with an if embedded in a while or for loop.\n"
   ]
  },
  {
   "cell_type": "markdown",
   "metadata": {},
   "source": [
    "### [B] Point out the errors, if any, in the following programs:"
   ]
  },
  {
   "cell_type": "markdown",
   "metadata": {},
   "source": [
    "\n",
    "**(a)**\n",
    "```python\n",
    "j = 1\n",
    "while j <= 10 :\n",
    "print(j)\n",
    "j++\n",
    "```\n",
    "`j++` Error: The increment operator `++` is not supported in Python. To increment `j`, use `j += 1`.\n",
    "\n",
    "**(b)** \n",
    "```python\n",
    "while true :\n",
    "    print('Infinite loop')\n",
    "```\n",
    "This code creates an infinite loop because of the condition `True` will always true. This will keep running the loop indefinitely.\n",
    "\n",
    "**(c)** \n",
    "```python\n",
    "lst = [10, 20, 30, 40, 50]\n",
    "for count = 1 to 5 :\n",
    "    print(lst[ i ])\n",
    "```\n",
    "Syntex error becuase of condition `count = 1 to 5` is not valid in Python. use\n",
    "```python\n",
    "for i in range(len(lst)):\n",
    "    print(lst[i])\n",
    "```\n",
    "\n",
    "**(d)** \n",
    "```python\n",
    "i = 15\n",
    "not while i < 10 :\n",
    "    print(i)\n",
    "    i -= 1\n",
    "```\n",
    "not keyword doesnot work before while, its works after while like ` while not i < 10 :`.\n",
    "\n",
    "**(e)** \n",
    "```python\n",
    "# Print alphabets from A to Z\n",
    "for alpha in range(65, 91) :\n",
    "    print(ord(alpha), end=' ')\n",
    "```\n",
    "No error in this program\n",
    "\n",
    "\n",
    "**(f)** \n",
    "```python\n",
    "for i in range(0.1, 1.0, 0.25) :\n",
    "    print(i)\n",
    "```\n",
    "error will show because of float values used in range functions arguments instante of integer value.\n",
    "\n",
    "**(g)** \n",
    "```python\n",
    "i = 1\n",
    "while i <= 10 :\n",
    "    j=1\n",
    "    while j <= 5 :\n",
    "        print(i, j )\n",
    "        j += 1\n",
    "        break\n",
    "    print(i, j)\n",
    "    i += 1\n",
    "```\n",
    "[C] Match the following for the values each range( ) function will\n",
    "generate."
   ]
  },
  {
   "cell_type": "markdown",
   "metadata": {},
   "source": [
    "### [C] Match the following for the values each range( ) function will generate.\n",
    "\n",
    "|statement|Options|\n",
    "|---|---|\n",
    "|a. range(5) |1. 1, 2, 3, 4\n",
    "|b. range(1, 10, 3) |2. 0, 1, 2, 3, 4\n",
    "|c. range(10, 1, -2) |3. Nothing\n",
    "|d. range(1, 5) |4. 10, 8, 6, 4, 2\n",
    "|e. range(-2) |5. 1, 4, 7\n",
    "\n",
    "Answer:\n",
    "\n",
    "|statement|Result|\n",
    "|---|---|\n",
    "|a. range(5) |2. 0, 1, 2, 3, 4 \n",
    "|b. range(1, 10, 3) |5. 1, 4, 7\n",
    "|c. range(10, 1, -2) |4. 10, 8, 6, 4, 2 \n",
    "|d. range(1, 5) |1. 1, 2, 3, 4\n",
    "|e. range(-2) |3. Nothing\n",
    "\n"
   ]
  },
  {
   "cell_type": "markdown",
   "metadata": {},
   "source": [
    "# [D] Attempt the following questions:"
   ]
  },
  {
   "cell_type": "code",
   "execution_count": 4,
   "metadata": {},
   "outputs": [
    {
     "name": "stdout",
     "output_type": "stream",
     "text": [
      "1\n",
      "3\n",
      "5\n",
      "7\n",
      "9\n",
      "11\n",
      "13\n",
      "15\n",
      "17\n",
      "19\n",
      "21\n",
      "23\n",
      "25\n",
      "27\n",
      "29\n",
      "31\n",
      "33\n",
      "35\n",
      "37\n",
      "39\n",
      "41\n",
      "43\n",
      "45\n",
      "47\n",
      "49\n"
     ]
    }
   ],
   "source": [
    "# (a) Write a program to print first 25 odd numbers using range( ).\n",
    "\n",
    "number = 25\n",
    "odd_number = 1\n",
    "for i in range(number):\n",
    "    print (odd_number)\n",
    "    odd_number += 2"
   ]
  },
  {
   "cell_type": "markdown",
   "metadata": {},
   "source": [
    "**(b) Rewrite the following program using for loop.**\n",
    "```python\n",
    "lst = ['desert', 'dessert', 'to', 'too', 'lose', 'loose']\n",
    "s = 'Mumbai'\n",
    "i=0\n",
    "while i < len(lst) :\n",
    "    if i > 3 :\n",
    "        break   \n",
    "    else :\n",
    "        print(i, lst[i], s[i])\n",
    "        i += 1\n",
    "```"
   ]
  },
  {
   "cell_type": "code",
   "execution_count": 6,
   "metadata": {},
   "outputs": [
    {
     "name": "stdout",
     "output_type": "stream",
     "text": [
      "0 desert M\n",
      "1 dessert u\n",
      "2 to m\n",
      "3 too b\n"
     ]
    }
   ],
   "source": [
    "lst = ['desert', 'dessert', 'to', 'too', 'lose', 'loose']\n",
    "s = 'Mumbai'\n",
    "\n",
    "for i in range(len(lst)):\n",
    "    if i > 3 :\n",
    "        break   \n",
    "    else :\n",
    "        print(i, lst[i], s[i])\n",
    "        i += 1"
   ]
  },
  {
   "cell_type": "code",
   "execution_count": 30,
   "metadata": {},
   "outputs": [
    {
     "name": "stdout",
     "output_type": "stream",
     "text": [
      "string count is 6 and number count is 6.\n"
     ]
    }
   ],
   "source": [
    "# (c) Write a program to count the number of alphabets and number of digits in the string 'Nagpur-440010'\n",
    "\n",
    "strg = 'Nagpur-440010'\n",
    "lst = [chr(i) for i in range(65 , 91)] + [chr(i) for i in range(97, 123)]\n",
    "lst2 = [chr(i) for i in range(48,58)]\n",
    "str_count = 0\n",
    "num_count = 0\n",
    "for i in strg:\n",
    "    if i in lst:\n",
    "        str_count+=1\n",
    "    elif i in lst2:\n",
    "        num_count += 1\n",
    "\n",
    "    \n",
    "print(f\"string count is {str_count} and number count is {num_count}.\")"
   ]
  },
  {
   "cell_type": "code",
   "execution_count": 35,
   "metadata": {},
   "outputs": [
    {
     "name": "stdout",
     "output_type": "stream",
     "text": [
      "your input 151 and its revesed number 151 are equal.\n"
     ]
    }
   ],
   "source": [
    "# (d) A five-digit number is entered through the keyboard. Write a program to obtain the reversed number and to determine whether the original and reversed numbers are equal or not.\n",
    "\n",
    "u_input = input(\"enter five digit number\")\n",
    "d = \"\"\n",
    "for i in u_input:\n",
    "    d = i + d\n",
    "# check orginal number with reversed number are equal or not\n",
    "if u_input == d :\n",
    "    print(f\"your input {u_input} and its revesed number {d} are equal.\")\n",
    "else:\n",
    "    print(f\"your input {u_input} and its revesed number {d} are not equal.\")"
   ]
  },
  {
   "cell_type": "code",
   "execution_count": 45,
   "metadata": {},
   "outputs": [
    {
     "name": "stdout",
     "output_type": "stream",
     "text": [
      "1\n",
      "2\n",
      "6\n",
      "24\n",
      "120\n"
     ]
    }
   ],
   "source": [
    "# (e) Write a program to find the factorial value of any number entered through the keyboard.\n",
    "\n",
    "eu_input = int(input(\"enter number\"))\n",
    "e = 1\n",
    "if eu_input > 1 :\n",
    "    for i in range(1, eu_input + 1):\n",
    "        e *= i\n",
    "        print(e)\n",
    "else:\n",
    "    e = 1"
   ]
  },
  {
   "cell_type": "code",
   "execution_count": 48,
   "metadata": {},
   "outputs": [
    {
     "name": "stdout",
     "output_type": "stream",
     "text": [
      "[1, 153, 370, 371, 407]\n"
     ]
    }
   ],
   "source": [
    "# (f) Write a program to print out all Armstrong numbers between 1 and 500. If sum of cubes of each digit of the number is equal to the number itself, then the number is called an Armstrong number. For example, 153 = ( 1 * 1 * 1 ) + ( 5 * 5 * 5 ) + ( 3 * 3 * 3 ).\n",
    "f_lst = []\n",
    "for i in range(1, 501):\n",
    "    strg = str(i)\n",
    "    num = 0\n",
    "    for j in strg:\n",
    "        j = int(j)\n",
    "        num += j**3\n",
    "    if i == num:\n",
    "        f_lst.append(i)\n",
    "\n",
    "print(f_lst)"
   ]
  },
  {
   "cell_type": "code",
   "execution_count": 62,
   "metadata": {},
   "outputs": [
    {
     "name": "stdout",
     "output_type": "stream",
     "text": [
      "1\n",
      "2\n",
      "3\n",
      "5\n",
      "7\n",
      "11\n",
      "13\n",
      "17\n",
      "19\n",
      "23\n",
      "29\n",
      "31\n",
      "37\n",
      "41\n",
      "43\n",
      "47\n",
      "53\n",
      "59\n",
      "61\n",
      "67\n",
      "71\n",
      "73\n",
      "79\n",
      "83\n",
      "89\n",
      "97\n",
      "101\n",
      "103\n",
      "107\n",
      "109\n",
      "113\n",
      "127\n",
      "131\n",
      "137\n",
      "139\n",
      "149\n",
      "151\n",
      "157\n",
      "163\n",
      "167\n",
      "173\n",
      "179\n",
      "181\n",
      "191\n",
      "193\n",
      "197\n",
      "199\n",
      "211\n",
      "223\n",
      "227\n",
      "229\n",
      "233\n",
      "239\n",
      "241\n",
      "251\n",
      "257\n",
      "263\n",
      "269\n",
      "271\n",
      "277\n",
      "281\n",
      "283\n",
      "293\n"
     ]
    }
   ],
   "source": [
    "# (g) Write a program to print all prime numbers from 1 to 300.\n",
    "\n",
    "for i in range(1, 300):\n",
    "    count = 0\n",
    "    for j in range(2, i+1):\n",
    "        if i % j == 0 :\n",
    "            count += 1\n",
    "    if i == 1:\n",
    "        print(i)\n",
    "    elif count == 1:\n",
    "        print(i)"
   ]
  },
  {
   "cell_type": "code",
   "execution_count": 64,
   "metadata": {},
   "outputs": [
    {
     "name": "stdout",
     "output_type": "stream",
     "text": [
      "Tabel of 23 is : \n",
      "23 * 1 = 23\n",
      "23 * 2 = 46\n",
      "23 * 3 = 69\n",
      "23 * 4 = 92\n",
      "23 * 5 = 115\n",
      "23 * 6 = 138\n",
      "23 * 7 = 161\n",
      "23 * 8 = 184\n",
      "23 * 9 = 207\n",
      "23 * 10 = 230\n"
     ]
    }
   ],
   "source": [
    "# (h) Write a program to print the multiplication table of the number entered by the user. The table should get displayed in the following form:\n",
    "# 29 * 1 = 29\n",
    "# 29 * 2 = 58\n",
    "\n",
    "hu_input = int(input(\"enter number\"))\n",
    "print(f\"Tabel of {hu_input} is : \")\n",
    "for i in range(1,11):\n",
    "    print(f\"{hu_input} * {i} = {hu_input * i}\")"
   ]
  },
  {
   "cell_type": "code",
   "execution_count": null,
   "metadata": {},
   "outputs": [],
   "source": [
    "'''\n",
    "(i)\n",
    "When interest compounds q times per year at an annual rate of r % for n years, the principal p compounds to an amount a as per the following formula:\n",
    "a = p ( 1 + r / q ) nq\n",
    "Write a program to read 10 sets of p, r, n & q and calculate the corresponding as.\n",
    "'''\n"
   ]
  },
  {
   "cell_type": "code",
   "execution_count": null,
   "metadata": {},
   "outputs": [],
   "source": [
    "\"\"\"\n",
    "(j)\n",
    "Write a program to generate all Pythagorean Triplets with side\n",
    "length less than or equal to 30.\n",
    "\"\"\""
   ]
  },
  {
   "cell_type": "code",
   "execution_count": 70,
   "metadata": {},
   "outputs": [
    {
     "name": "stdout",
     "output_type": "stream",
     "text": [
      "In year 2023 population was 90909.\n",
      "In year 2022 population was 82644.\n",
      "In year 2021 population was 75130.\n",
      "In year 2020 population was 68300.\n",
      "In year 2019 population was 62090.\n",
      "In year 2018 population was 56445.\n",
      "In year 2017 population was 51313.\n",
      "In year 2016 population was 46648.\n",
      "In year 2015 population was 42407.\n",
      "In year 2014 population was 38551.\n"
     ]
    }
   ],
   "source": [
    "\"\"\"(k) Population of a town today is 100000. The population has increased\n",
    "steadily at the rate of 10 % per year for last 10 years. Write a\n",
    "program to determine the population at the end of each year in the\n",
    "last decade.\"\"\"\n",
    "\n",
    "population = 100_000\n",
    "year = 2024\n",
    "j = 100_000\n",
    "for i in range(1, 11):\n",
    "    j = int(j - ((j / 110) * 10))\n",
    "    print(f\"In year {year - i} population was {j}.\")\n"
   ]
  },
  {
   "cell_type": "code",
   "execution_count": null,
   "metadata": {},
   "outputs": [],
   "source": [
    "\"\"\"(l)\n",
    "Ramanujan number is the smallest number that can be expressed as\n",
    "sum of two cubes in two different ways. Write a program to print all\n",
    "such numbers up to a reasonable limit.\n",
    "\"\"\""
   ]
  },
  {
   "cell_type": "code",
   "execution_count": 66,
   "metadata": {},
   "outputs": [
    {
     "name": "stdout",
     "output_type": "stream",
     "text": [
      "12:00 Midnight\n",
      "1:00 AM\n",
      "2:00 AM\n",
      "3:00 AM\n",
      "4:00 AM\n",
      "5:00 AM\n",
      "6:00 AM\n",
      "7:00 AM\n",
      "8:00 AM\n",
      "9:00 AM\n",
      "10:00 AM\n",
      "11:00 AM\n",
      "12:00 Noon\n",
      "1:00 PM\n",
      "2:00 PM\n",
      "3:00 PM\n",
      "4:00 PM\n",
      "5:00 PM\n",
      "6:00 PM\n",
      "7:00 PM\n",
      "8:00 PM\n",
      "9:00 PM\n",
      "10:00 PM\n",
      "11:00 PM\n",
      "12:00 PM\n"
     ]
    }
   ],
   "source": [
    "# (m) Write a program to print 24 hours of day with suitable suffixes like AM, PM, Noon and Midnight.\n",
    "\n",
    "for i in range(0, 25):\n",
    "    if i == 0 :\n",
    "        print(f\"12:00 Midnight\")\n",
    "    elif i > 0 and i < 12 :\n",
    "        print(f\"{i}:00 AM\")\n",
    "    elif i == 12 :\n",
    "        print(f\"12:00 Noon\")\n",
    "    else :\n",
    "        print(f\"{i - 12}:00 PM\") "
   ]
  }
 ],
 "metadata": {
  "kernelspec": {
   "display_name": "Python 3",
   "language": "python",
   "name": "python3"
  },
  "language_info": {
   "codemirror_mode": {
    "name": "ipython",
    "version": 3
   },
   "file_extension": ".py",
   "mimetype": "text/x-python",
   "name": "python",
   "nbconvert_exporter": "python",
   "pygments_lexer": "ipython3",
   "version": "3.10.12"
  }
 },
 "nbformat": 4,
 "nbformat_minor": 2
}
