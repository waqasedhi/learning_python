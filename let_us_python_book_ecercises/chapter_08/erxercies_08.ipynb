{
 "cells": [
  {
   "cell_type": "markdown",
   "metadata": {},
   "source": [
    "### [A] What will be the output of the following programs:\n",
    "\n",
    "**(a)**\n",
    "```python \n",
    "msg = list('www.kicit.com')\n",
    "ch = msg[-1]\n",
    "print(ch)\n",
    "```\n",
    "\n",
    "Answer:\n",
    "`m`\n",
    "\n",
    "**(b)**\n",
    "```python \n",
    "msg = list('kanlabs.teachable.com')\n",
    "s = msg[4:6]\n",
    "print(s)\n",
    "```\n",
    "Answer:\n",
    "`['a','b']`\n",
    "\n",
    "**(c)** \n",
    "```python\n",
    "msg = 'Online Courses - KanLabs'\n",
    "s = list(msg[:3])\n",
    "print(s)\n",
    "```\n",
    "Answer:\n",
    "`['O','n','l']`\n",
    "\n",
    "**(d)** \n",
    "```python \n",
    "msg = 'Rahate Colony'\n",
    "s = list(msg[-5:-2])\n",
    "print(s)\n",
    "```\n",
    "Answer:\n",
    "`['o', 'l', 'o']`\n",
    "\n",
    "**(e)** \n",
    "```python\n",
    "s = list('KanLabs')\n",
    "t = s[::-1]\n",
    "print(t)\n",
    "```\n",
    "Answer:\n",
    "`['s', 'b', 'a', 'L', 'n', 'a', 'K']`\n",
    "\n",
    "**(f)**\n",
    "```python \n",
    "num1 = [10, 20, 30, 40, 50]\n",
    "num2 = num1 \n",
    "print(id(num1)) \n",
    "print(type(num2)) \n",
    "print(isinstance(num1, list)) \n",
    "print(num1 is num2) \n",
    "```\n",
    "Anwser:\n",
    "```\n",
    "40423528\n",
    "<class 'list'>\n",
    "True\n",
    "True\n",
    "```\n",
    "\n",
    "**(g)**\n",
    "```python\n",
    "num = [10, 20, 30, 40, 50]\n",
    "num[2:4] = [ ]\n",
    "print(num)\n",
    "```\n",
    "Answer:\n",
    "`[30, 40]`\n",
    "correct is `[10, 20, 50]`\n",
    "\n",
    "**(h)** \n",
    "```python \n",
    "num1 = [10, 20, 30, 40, 50]\n",
    "num2 = [60, 70, 80]\n",
    "num1.append(num2)\n",
    "print(num1)\n",
    "```\n",
    "Answer:\n",
    "`[10, 20, 30, 40, 50, [60, 70, 80]] `\n",
    "\n",
    "**(i)**\n",
    "```python\n",
    "lst = [10, 25, 4, 12, 3, 8]\n",
    "sorted(lst)\n",
    "print(lst)\n",
    "```\n",
    "Answer:\n",
    "`[3, 4, 8, 10, 12, 25]`\n",
    "correct is `[10, 25, 4, 12, 3, 8]`\n",
    "\n",
    "**(j)**\n",
    "```python\n",
    "a = [1, 2, 3, 4]\n",
    "b = [1, 2, 5]\n",
    "print(a < b)\n",
    "```\n",
    "Answer:\n",
    "`True`\n"
   ]
  },
  {
   "cell_type": "markdown",
   "metadata": {},
   "source": [
    "### [B] Attempt the following questions:\n",
    "\n",
    "**(a) Which of the following is a valid List?**\n",
    "```python\n",
    "['List']\n",
    "{\"List\"}\n",
    "(\"List\")\n",
    "\"List\"\n",
    "```\n",
    "Answer:\n",
    "`['list']`\n",
    "\n",
    "**(b) What will happen on execution of the following code snippet?**\n",
    "```python\n",
    "s = list('Hello')\n",
    "s[1] = 'M'\n",
    "```\n",
    "Answer: The element 'e' in the list s would be replaced by 'M'. \n",
    "`s = ['H', 'M', 'l', 'l', 'o']`\n",
    "\n",
    "**(c) The following code snippet deletes elements 30 and 40 from the list:**\n",
    "```python\n",
    "num = [10, 20, 30, 40, 50]\n",
    "del(num[2:4])\n",
    "```\n",
    "**In which other way can the same effect be obtained?**\n",
    "\n",
    "Answer:\n",
    "`num[2:4] = []`\n",
    "\n",
    "**(d) Which of the following is an INCORRECT list?**\n",
    "```python\n",
    "a = [0, 1, 2, 3, [10, 20, 30]]\n",
    "a = [10, 'Suraj', 34555.50]\n",
    "a = [[10, 20, 30], [40, 50, 60]]\n",
    "```\n",
    "Answer: None. All lists are correct. A list can contain dissimilar elements.\n",
    "\n",
    "**(e) From the list given below**\n",
    "```python\n",
    "num1 = [10, 20, 30, 40, 50]\n",
    "How will you create the list num2 containing:\n",
    "['A', 'B', 'C', 10, 20, 30, 40, 50, 'Y', 'Z']\n",
    "```\n",
    "Answer:\n",
    "```python\n",
    "num2 = []\n",
    "num2.extend(['A', 'B', 'C'])\n",
    "num2.extend(num1)\n",
    "num2.extend(['Y', 'Z'])\n",
    "```\n",
    "an other way\n",
    "```python\n",
    "num1 = [10, 20, 30, 40, 50]\n",
    "num2 = ['A', 'B', 'C', *num1, 'Y', 'Z']\n",
    "```\n",
    "\n",
    "\n",
    "**(f) Given a list `lst = [10, 25, 4, 12, 3, 8]` **How will you sort it in descending order?**\n",
    "\n",
    "Answer:\n",
    "`lst.sort(reverse = True)` an other `lst= sorted(lst,reverse = True)`\n",
    "\n",
    "**(g) Given a list `lst = [10, 25, 4, 12, 3, 8]` How will you check whether 30 is present in the list or not?**\n",
    "\n",
    "Answer:\n",
    "`print(30 in lst)`\n",
    "\n",
    "**(h) Given a list `lst = [10, 25, 4, 12, 3, 8]` How will you insert 30 between 25 and 4?**\n",
    "\n",
    "Answer: `lst.insert(2 , 30)`\n",
    "\n",
    "**(i) Given a string `s = 'Hello'` How will you obtain a list ['H', 'e', 'l', 'l', 'o'] from it?**\n",
    "\n",
    "Answer: `s = list(s)`\n"
   ]
  },
  {
   "cell_type": "markdown",
   "metadata": {},
   "source": [
    "### [C] Answer the following questions:\n",
    "**(a) Write a program to create a list of 5 odd integers. Replace the third element with a list of 4 even integers. Flatten, sort and print the list.**"
   ]
  },
  {
   "cell_type": "code",
   "execution_count": 3,
   "metadata": {},
   "outputs": [
    {
     "name": "stdout",
     "output_type": "stream",
     "text": [
      "this a list of 5 odd integers. Replace the third element with a list of 4 even integers [1, 3, [2, 4, 6, 8], 7, 9].\n",
      "this Flatten list [1, 3, 2, 4, 6, 8, 7, 9].\n",
      "now we sort the flatten list [1, 2, 3, 4, 6, 7, 8, 9].\n"
     ]
    }
   ],
   "source": [
    "lsta_odd = []\n",
    "lsta_even = []\n",
    "counta = 0\n",
    "\n",
    "for i in range(1 , 10):\n",
    "    if i % 2 != 0:\n",
    "        lsta_odd.append(i)\n",
    "    elif i % 2 == 0:\n",
    "        lsta_even.append(i)\n",
    "\n",
    "lsta_odd[2] = lsta_even\n",
    "\n",
    "print(f\"this a list of 5 odd integers. Replace the third element with a list of 4 even integers {lsta_odd}.\")\n",
    "\n",
    "flatten_lst = []\n",
    "for i in lsta_odd:\n",
    "    if isinstance(i, list):\n",
    "        flatten_lst.extend(i)\n",
    "    else:\n",
    "        flatten_lst.append(i)\n",
    "print(f'this Flatten list {flatten_lst}.')\n",
    "\n",
    "flatten_lst.sort()\n",
    "print(f\"now we sort the flatten list {flatten_lst}.\")"
   ]
  },
  {
   "cell_type": "markdown",
   "metadata": {},
   "source": [
    "**(b) Suppose a list contains 20 integers generated randomly. Received a number from the keyboard and report position of all occurrence of this number in the list.**"
   ]
  },
  {
   "cell_type": "code",
   "execution_count": 8,
   "metadata": {},
   "outputs": [
    {
     "name": "stdout",
     "output_type": "stream",
     "text": [
      "[6, 7, 13, 41, 3, 4, 3, 44, 33, 49, 45, 41, 24, 27, 39, 21, 30, 0, 42, 6]\n",
      "Number 6 found at position: 0.\n",
      "Number 6 found at position: 19.\n"
     ]
    }
   ],
   "source": [
    "import random\n",
    "\n",
    "lstb = [ ]\n",
    "# make random number list\n",
    "for k in range(20) :\n",
    "    n = random.randint(0, 50)\n",
    "    lstb.append(n)\n",
    "\n",
    "print(lstb)\n",
    "\n",
    "# User Input\n",
    "numb = int(input('Enter number: '))\n",
    "\n",
    "# search number in list\n",
    "for i in range(len(lstb)) :\n",
    "    if lstb[i] == numb:\n",
    "        print(f'Number {numb} found at position: {i}.')"
   ]
  },
  {
   "cell_type": "markdown",
   "metadata": {},
   "source": [
    "**(c) Suppose a list has 20 numbers. Write a program that removes all duplicates from this list.**"
   ]
  },
  {
   "cell_type": "code",
   "execution_count": 10,
   "metadata": {},
   "outputs": [
    {
     "name": "stdout",
     "output_type": "stream",
     "text": [
      "[35, 28, 34, 35, 7, 24, 12, 48, 25, 35, 2, 34, 23, 7, 42, 27, 26, 7, 33, 45]\n",
      "removes all duplicate number if were in list\n",
      "[35, 28, 34, 7, 24, 12, 48, 25, 2, 23, 42, 27, 26, 33, 45]\n"
     ]
    }
   ],
   "source": [
    "import random\n",
    "\n",
    "lstc = [ ]\n",
    "# make random number list\n",
    "for k in range(20) :\n",
    "    n = random.randint(0, 50)\n",
    "    lstc.append(n)\n",
    "\n",
    "print(lstc)\n",
    "\n",
    "lstc2 = []\n",
    "\n",
    "for i in lstc:\n",
    "    if i not in lstc2:\n",
    "        lstc2.append(i)\n",
    "\n",
    "print(f\"removes all duplicate number if were in list\\n{lstc2}\")\n"
   ]
  },
  {
   "cell_type": "markdown",
   "metadata": {},
   "source": [
    "**(d) Suppose a list contains positive and negative numbers. Write a program to create two lists—one containing positive numbers and another containing negative numbers.**"
   ]
  },
  {
   "cell_type": "code",
   "execution_count": 12,
   "metadata": {},
   "outputs": [
    {
     "name": "stdout",
     "output_type": "stream",
     "text": [
      "this is positve number list\n",
      "[1, 2, 3, 4, 5]\n",
      "and this is negative number list\n",
      "[-9, -6, -45, -78, -1]\n"
     ]
    }
   ],
   "source": [
    "lstd = [1, -9, -6, -45, -78,-1, 2, 3, 4, 5]\n",
    "lstdp = []\n",
    "lstdn = []\n",
    "\n",
    "for i in lstd:\n",
    "    if i < 0:\n",
    "        lstdn.append(i)\n",
    "    else:\n",
    "        lstdp.append(i)\n",
    "\n",
    "print(f\"this is positve number list\\n{lstdp}\\nand this is negative number list\\n{lstdn}\")\n"
   ]
  },
  {
   "cell_type": "markdown",
   "metadata": {},
   "source": [
    "**(e) Suppose a list contains 5 strings. Write a program to convert all these strings to uppercase.**"
   ]
  },
  {
   "cell_type": "code",
   "execution_count": 13,
   "metadata": {},
   "outputs": [
    {
     "name": "stdout",
     "output_type": "stream",
     "text": [
      "list of strings\n",
      "['abc', 'def', 'ghi', 'jkl', 'lmn']\n",
      "convert all these strings to uppercase\n",
      "['ABC', 'DEF', 'GHI', 'JKL', 'LMN']\n"
     ]
    }
   ],
   "source": [
    "lste = ['abc', 'def', 'ghi', 'jkl', 'lmn']\n",
    "lste2 = []\n",
    "for i in lste:\n",
    "    lste2.append(i.upper())\n",
    "\n",
    "print(f\"list of strings\\n{lste}\\nconvert all these strings to uppercase\\n{lste2}\")"
   ]
  },
  {
   "cell_type": "markdown",
   "metadata": {},
   "source": [
    "**(f) Write a program that converts list of temperatures in Fahrenheit degrees to equivalent Celsius degrees.**"
   ]
  },
  {
   "cell_type": "code",
   "execution_count": 15,
   "metadata": {},
   "outputs": [
    {
     "name": "stdout",
     "output_type": "stream",
     "text": [
      "This Fahrenheit degrees list\n",
      "[212, 120, 100, 93, 37]\n",
      "this is equivalent Celsius degrees list\n",
      "[100, 48, 37, 33, 2]\n"
     ]
    }
   ],
   "source": [
    "fahr_lstf = [212, 120, 100, 93, 37]\n",
    "cent_lstf = []\n",
    "for temp in fahr_lstf:\n",
    "    cent = int(5 / 9 * (temp - 32))\n",
    "    cent_lstf.append(cent)\n",
    "\n",
    "print(f\"This Fahrenheit degrees list\\n{fahr_lstf}\\nthis is equivalent Celsius degrees list\\n{cent_lstf}\")"
   ]
  },
  {
   "cell_type": "markdown",
   "metadata": {},
   "source": [
    "**(g) Write a program to obtain a median value of a list of numbers, without disturbing the order of the numbers in the list.**"
   ]
  },
  {
   "cell_type": "code",
   "execution_count": 18,
   "metadata": {},
   "outputs": [
    {
     "name": "stdout",
     "output_type": "stream",
     "text": [
      "Median value = 4\n"
     ]
    }
   ],
   "source": [
    "num = [1, 2, 3, 4, 5, 6, 7]\n",
    "n = len(num)\n",
    "\n",
    "# Obtain median of a list\n",
    "if n % 2 == 0 :\n",
    "    i = int(n / 2 - 1)\n",
    "    j = int(n / 2)\n",
    "    median = (num[i] + num[j]) / 2\n",
    "else :\n",
    "   i = int(n / 2)\n",
    "\n",
    "median = num[i]\n",
    "\n",
    "print('Median value =', median)"
   ]
  },
  {
   "cell_type": "markdown",
   "metadata": {},
   "source": [
    "**(h) A list contains only positive and negative integers. Write a program to obtain the number of negative numbers present in the list.**"
   ]
  },
  {
   "cell_type": "code",
   "execution_count": 2,
   "metadata": {},
   "outputs": [
    {
     "name": "stdout",
     "output_type": "stream",
     "text": [
      "Number of negative numbers in the list = 5\n"
     ]
    }
   ],
   "source": [
    "lsth = [1, 2, 3, 4, 5, -1, -2, -3, -4, -5]\n",
    "\n",
    "if 0 not in lsth :\n",
    "    lsth.append(0)\n",
    "\n",
    "lsth = sorted(lsth)\n",
    "pos = lsth.index(0)\n",
    "lsthn = lsth[:pos]\n",
    "\n",
    "\n",
    "print(f'Number of negative numbers in the list = {len(lsthn)}')"
   ]
  },
  {
   "cell_type": "markdown",
   "metadata": {},
   "source": [
    "**(i) Suppose a list contains several words. Write a program to create another list that contains first character of each word present in the first list.**"
   ]
  },
  {
   "cell_type": "code",
   "execution_count": 4,
   "metadata": {},
   "outputs": [
    {
     "name": "stdout",
     "output_type": "stream",
     "text": [
      "list of strings\n",
      "['Dialogue', 'is', 'dead', 'Chatalogue', 'is', 'in']\n",
      "list that contains first character of each word present in the above list\n",
      "['D', 'i', 'd', 'C', 'i', 'i']\n"
     ]
    }
   ],
   "source": [
    "lsti = ['Dialogue', 'is', 'dead', 'Chatalogue', 'is', 'in']\n",
    "lsti2 = []\n",
    "for i in lsti:\n",
    "    lsti2.append(i[0])\n",
    "\n",
    "print(f\"list of strings\\n{lsti}\\nlist that contains first character of each word present in the above list\\n{lsti2}\")"
   ]
  },
  {
   "cell_type": "markdown",
   "metadata": {},
   "source": [
    "**(j) A list contains 10 numbers. Write a program to eliminate all duplicates from the list.**"
   ]
  },
  {
   "cell_type": "code",
   "execution_count": 5,
   "metadata": {},
   "outputs": [
    {
     "name": "stdout",
     "output_type": "stream",
     "text": [
      "[45, 40, 40, 20, 0, 33, 9, 47, 8, 18]\n",
      "removes all duplicate number if were in list\n",
      "[45, 40, 20, 0, 33, 9, 47, 8, 18]\n"
     ]
    }
   ],
   "source": [
    "import random\n",
    "\n",
    "lstj = [ ]\n",
    "# make random number list\n",
    "for k in range(10) :\n",
    "    n = random.randint(0, 50)\n",
    "    lstj.append(n)\n",
    "\n",
    "print(lstj)\n",
    "\n",
    "lstj2 = []\n",
    "\n",
    "for i in lstj:\n",
    "    if i not in lstj2:\n",
    "        lstj2.append(i)\n",
    "\n",
    "print(f\"removes all duplicate number if were in list\\n{lstj2}\")"
   ]
  },
  {
   "cell_type": "markdown",
   "metadata": {},
   "source": [
    "**(k) Write a program to find the mean, median and mode of a list of 10 numbers.**"
   ]
  },
  {
   "cell_type": "code",
   "execution_count": 6,
   "metadata": {},
   "outputs": [
    {
     "name": "stdout",
     "output_type": "stream",
     "text": [
      "List = [10, 20, 30, 30, 30, 30, 40, 60, 70, 80]\n",
      "Mean = 40.0\n",
      "Median = 30.0\n",
      "Mode = 30\n"
     ]
    }
   ],
   "source": [
    "lstk = [10, 20, 30, 40, 30, 60, 70, 30, 80, 30]\n",
    "\n",
    "# Mean\n",
    "n = len(lstk)\n",
    "lstk_sum = sum(lstk)\n",
    "mean = lstk_sum / n\n",
    "\n",
    "# Median\n",
    "n = len(lstk)\n",
    "lstk.sort()\n",
    "if n % 2 == 0 :\n",
    "    median1 = lstk[ n // 2]\n",
    "    median2 = lstk[ n // 2 - 1]\n",
    "    median = ( median1 + median2 ) / 2\n",
    "\n",
    "else :\n",
    "    median = lstk[ n // 2 ]\n",
    "\n",
    "# Mode\n",
    "\n",
    "lstk1 = [0, 0]\n",
    "\n",
    "for num in lstk :\n",
    "    occ = lstk.count(num)\n",
    "    if occ > lstk1[0] :\n",
    "        lstk1 = [occ, num]\n",
    "\n",
    "print('List =', lstk)\n",
    "print('Mean =', mean)\n",
    "print('Median =', median)\n",
    "print('Mode =', lstk1[1])\n",
    "\n"
   ]
  }
 ],
 "metadata": {
  "kernelspec": {
   "display_name": "Python 3",
   "language": "python",
   "name": "python3"
  },
  "language_info": {
   "codemirror_mode": {
    "name": "ipython",
    "version": 3
   },
   "file_extension": ".py",
   "mimetype": "text/x-python",
   "name": "python",
   "nbconvert_exporter": "python",
   "pygments_lexer": "ipython3",
   "version": "3.10.12"
  }
 },
 "nbformat": 4,
 "nbformat_minor": 2
}
