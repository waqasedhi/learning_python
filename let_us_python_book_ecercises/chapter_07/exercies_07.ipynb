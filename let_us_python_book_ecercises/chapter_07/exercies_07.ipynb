{
 "cells": [
  {
   "cell_type": "markdown",
   "metadata": {},
   "source": [
    "### [A] Attempt the following questions:"
   ]
  },
  {
   "cell_type": "code",
   "execution_count": 2,
   "metadata": {},
   "outputs": [
    {
     "name": "stdout",
     "output_type": "stream",
     "text": [
      "['30', '32', '39']\n"
     ]
    }
   ],
   "source": [
    "# (a) How will you make the following code more compact?\n",
    "# print('Enter ages of 3 persons')\n",
    "# age1 = input( )\n",
    "# age2 = input( )\n",
    "# age3 = input( )\n",
    "\n",
    "ages = input(\"enter ages of 3 persons space between each age.\").split(\" \")\n",
    "print (ages)"
   ]
  },
  {
   "cell_type": "code",
   "execution_count": 4,
   "metadata": {},
   "outputs": [
    {
     "name": "stdout",
     "output_type": "stream",
     "text": [
      "Rendezvous "
     ]
    }
   ],
   "source": [
    "\n",
    "# (b) How will you print \"Rendezvous\" in a line and retain the cursor in the same line in which the output has been printed?\n",
    "\n",
    "print(\"Rendezvous\", end=\" \")"
   ]
  },
  {
   "cell_type": "code",
   "execution_count": 3,
   "metadata": {},
   "outputs": [
    {
     "name": "stdout",
     "output_type": "stream",
     "text": [
      "length = {l} breadth = {b}\n"
     ]
    }
   ],
   "source": [
    "# (c) What will be the output of the following code snippet?\n",
    "# l, b = 1.5678, 10.5\n",
    "# print('length = {l} breadth = {b}')"
   ]
  },
  {
   "cell_type": "code",
   "execution_count": null,
   "metadata": {},
   "outputs": [],
   "source": [
    "\n",
    "\n",
    "\n",
    "\n",
    "# (d) In the following statement what do > 5, > 7 and > 8 signify?\n",
    "# print(f'{n:>5}{n ** 2:>7}{n ** 3:>8}')\n",
    "# (e) What will be the output of the following code segment?\n",
    "# name = 'Sanjay'\n",
    "# cellno = 9823017892\n",
    "# print(f'{name:15} : {cellno:10}')\n",
    "# (f) How will you print the output of the following code segment using\n",
    "# fstring?\n",
    "# x, y, z =10, 20, 40\n",
    "# print('{0:<5}{1:<7}{2:<8}'.format(x, y, z))\n",
    "# (g) How will you receive arbitrary number of floats from keyboard?\n",
    "# (h) What changes should be made in\n",
    "# print(f'{'\\nx = ':4}{x:>10}{'\\ny = ':4}{y:>10}')\n",
    "# to produce the output given below:\n",
    "# x=\n",
    "# y=\n",
    "# 14.99\n",
    "# 114.39\n",
    "# (i) How will you receive a boolean value as input?\n",
    "# (j) How will you receive a complex number as input?\n",
    "# (k) How will you display price in 10 columns with 4 places beyond\n",
    "# decimal points? Assume value of price to be 1.5567894.\n",
    "# (l) Write a program to receive an arbitrary number of floats using one\n",
    "# input( ) statement. Calculate the average of floats received.\n",
    "# (m) Write a program to receive the following using one input( )\n",
    "# statement.\n",
    "# Name of the person\n",
    "# Years of service\n",
    "# Diwali bonus received\n",
    "# Calculate and print the agreement deduction as per the following\n",
    "# formula:\n",
    "# deduction = 2 * years of service + bonus * 5.5 / 100\n",
    "# (n) Which import statement should be added to use the built-in\n",
    "# functions input( ) and print( )?\n",
    "# (o) Is the following statement correct?\n",
    "# print('Result = ' + 4 > 3)\n",
    "# (p) Write a program to print the following values\n",
    "# a = 12.34, b = 234.39, c = 444.34, d = 1.23, e = 34.67\n",
    "# as shown below:\n",
    "# a=\n",
    "# b=\n",
    "# c=\n",
    "# d=\n",
    "# e=\n",
    "# 12.34\n",
    "# 234.39\n",
    "# 444.34\n",
    "# 1.23\n",
    "# 34.67\n",
    "# [B] Match the following pairs:\n",
    "# a. Default value of sep in print( )\n",
    "# b. Default value of end in print( )\n",
    "# c. Easiest way to print output\n",
    "# d. Return type of split( )\n",
    "# e. print('{num:>5}')\n",
    "# f. print('{num:<5}')\n",
    "# 1. ' '\n",
    "# 2. Using fstring\n",
    "# 3. Right justify num in 5 columns\n",
    "# 4. Left justify num in 5 columns\n",
    "# 5. list\n",
    "# 6. \\n"
   ]
  }
 ],
 "metadata": {
  "kernelspec": {
   "display_name": "Python 3",
   "language": "python",
   "name": "python3"
  },
  "language_info": {
   "codemirror_mode": {
    "name": "ipython",
    "version": 3
   },
   "file_extension": ".py",
   "mimetype": "text/x-python",
   "name": "python",
   "nbconvert_exporter": "python",
   "pygments_lexer": "ipython3",
   "version": "3.10.12"
  }
 },
 "nbformat": 4,
 "nbformat_minor": 2
}
