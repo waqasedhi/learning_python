{
 "cells": [
  {
   "cell_type": "markdown",
   "metadata": {},
   "source": [
    "### [A] Attempt the following questions:"
   ]
  },
  {
   "cell_type": "code",
   "execution_count": 2,
   "metadata": {},
   "outputs": [
    {
     "name": "stdout",
     "output_type": "stream",
     "text": [
      "['30', '32', '39']\n"
     ]
    }
   ],
   "source": [
    "# (a) How will you make the following code more compact?\n",
    "# print('Enter ages of 3 persons')\n",
    "# age1 = input( )\n",
    "# age2 = input( )\n",
    "# age3 = input( )\n",
    "\n",
    "ages = input(\"enter ages of 3 persons space between each age.\").split(\" \")\n",
    "print (ages)"
   ]
  },
  {
   "cell_type": "code",
   "execution_count": 4,
   "metadata": {},
   "outputs": [
    {
     "name": "stdout",
     "output_type": "stream",
     "text": [
      "Rendezvous "
     ]
    }
   ],
   "source": [
    "\n",
    "# (b) How will you print \"Rendezvous\" in a line and retain the cursor in the same line in which the output has been printed?\n",
    "\n",
    "print(\"Rendezvous\", end=\" \")"
   ]
  },
  {
   "cell_type": "markdown",
   "metadata": {},
   "source": [
    "**(c) What will be the output of the following code snippet?**\n",
    "```python\n",
    "l, b = 1.5678, 10.5\n",
    "print('length = {l} breadth = {b}')\n",
    "```\n",
    "`length = {l} breadth = {b}`"
   ]
  },
  {
   "cell_type": "markdown",
   "metadata": {},
   "source": [
    "**(d) In the following statement what do > 5, > 7 and > 8 signify?**\n",
    "`print(f'{n:>5}{n ** 2:>7}{n ** 3:>8}')`\n",
    "\n",
    "The right alignment (>) and minimum field width (number) can be applied to any expression within f-strings, not just numbers."
   ]
  },
  {
   "cell_type": "markdown",
   "metadata": {},
   "source": [
    "**(e) What will be the output of the following code segment?**\n",
    "```python\n",
    "name = 'Sanjay'\n",
    "cellno = 9823017892\n",
    "print(f'{name:15} : {cellno:10}')\n",
    "```\n",
    "\n",
    "`Sanjay : 9823017892`"
   ]
  },
  {
   "cell_type": "markdown",
   "metadata": {},
   "source": [
    "**(f) How will you print the output of the following code segment using fstring?**\n",
    "```python\n",
    "x, y, z =10, 20, 40\n",
    "print('{0:<5}{1:<7}{2:<8}'.format(x, y, z))\n",
    "```\n",
    "`print(f'{x:<5}{y:<7}{z:<8}')`\n",
    "\n",
    "**(g) How will you receive arbitrary number of floats from keyboard?**\n",
    "\n",
    "`input_values = input(\"Enter floats separated by spaces: \").split(\" \")`"
   ]
  },
  {
   "cell_type": "markdown",
   "metadata": {},
   "source": [
    "**(h) What changes should be made in**\n",
    "`print(f'{'\\nx = ':4}{x:>10}{'\\ny = ':4}{y:>10}')`\n",
    "to produce the output given below:\n",
    "```\n",
    "x=   14.99\n",
    "y=  114.39\n",
    "```\n",
    "answer:\n",
    "`print(f'{x = :4}{x:>10}\\n{y = :4}{y:>10}')`"
   ]
  },
  {
   "cell_type": "code",
   "execution_count": 12,
   "metadata": {},
   "outputs": [
    {
     "name": "stdout",
     "output_type": "stream",
     "text": [
      "True\n"
     ]
    }
   ],
   "source": [
    "# (i) How will you receive a boolean value as input?\n",
    "isBool = input('Are you sure? (y/n): ').lower().strip() == 'y'\n",
    "print(isBool)"
   ]
  },
  {
   "cell_type": "code",
   "execution_count": 11,
   "metadata": {},
   "outputs": [
    {
     "name": "stdout",
     "output_type": "stream",
     "text": [
      "(4+5j)\n"
     ]
    }
   ],
   "source": [
    "# (j) How will you receive a complex number as input?\n",
    "isComp = complex(input(\"Number\"))\n",
    "print(isComp)"
   ]
  },
  {
   "cell_type": "code",
   "execution_count": null,
   "metadata": {},
   "outputs": [],
   "source": [
    "# (k) How will you display price in 10 columns with 4 places beyond decimal points? Assume value of price to be 1.5567894."
   ]
  },
  {
   "cell_type": "code",
   "execution_count": null,
   "metadata": {},
   "outputs": [],
   "source": [
    "# (l) Write a program to receive an arbitrary number of floats using one input( ) statement. Calculate the average of floats received.\n",
    "\n",
    "input_values = input(\"Enter floats separated by spaces: \").split(\" \")"
   ]
  },
  {
   "cell_type": "code",
   "execution_count": 14,
   "metadata": {},
   "outputs": [
    {
     "name": "stdout",
     "output_type": "stream",
     "text": [
      "Agreement Deduction for jawwad is: 6.55\n"
     ]
    }
   ],
   "source": [
    "# (m) Write a program to receive the following using one input( ) statement.\n",
    "# Name of the person\n",
    "# Years of service\n",
    "# Diwali bonus received\n",
    "# Calculate and print the agreement deduction as per the following formula:\n",
    "# deduction = 2 * years of service + bonus * 5.5 / 100\n",
    "\n",
    "\n",
    "input_str = input(\"Enter name, years of service, and Diwali bonus (separated by spaces): \")\n",
    "\n",
    "name, years_of_service, bonus = input_str.split()\n",
    "\n",
    "years_of_service = int(years_of_service)\n",
    "bonus = float(bonus)\n",
    "\n",
    "deduction = 2 * years_of_service + bonus * 5.5 / 100\n",
    "\n",
    "print(f\"Agreement Deduction for {name} is: {deduction:.2f}\")"
   ]
  },
  {
   "cell_type": "markdown",
   "metadata": {},
   "source": [
    "**(n) Which import statement should be added to use the built-in functions input( ) and print( )?**\n",
    "\n",
    "In Python, the input() and print() functions are built-in functions, meaning they are available in the Python standard library and do not require an import statement to use. "
   ]
  },
  {
   "cell_type": "markdown",
   "metadata": {},
   "source": [
    "\n",
    "**(o) Is the following statement correct?**\n",
    "`print('Result = ' + 4 > 3)`\n",
    "\n",
    "no, it show typeerror"
   ]
  },
  {
   "cell_type": "code",
   "execution_count": 23,
   "metadata": {},
   "outputs": [
    {
     "name": "stdout",
     "output_type": "stream",
     "text": [
      "a=    12.34\n",
      "b=   234.39\n",
      "c=   444.34\n",
      "d=     1.23\n",
      "e=    34.67\n",
      "\n",
      "a=     12.34\n",
      "b=    234.39\n",
      "c=    444.34\n",
      "d=      1.23\n",
      "e=     34.67\n"
     ]
    }
   ],
   "source": [
    "\n",
    "# (p) Write a program to print the following values\n",
    "# a = 12.34, b = 234.39, c = 444.34, d = 1.23, e = 34.67\n",
    "# as shown below:\n",
    "# a=     12.34\n",
    "# b=    234.39\n",
    "# c=    444.34\n",
    "# d=      1.23\n",
    "# e=     34.67\n",
    "\n",
    "a = 12.34; b = 234.39; c = 444.34; d = 1.23; e = 34.67\n",
    "print(f\"a= {a:>8}\\nb= {b:>8}\\nc= {c:>8}\\nd= {d:>8}\\ne= {e:>8}\\n\")\n",
    "print(f\"{'a= ':4}{a:>8}\\n{'b= ':4}{b:>8}\\n{'c= ':4}{c:>8}\\n{'d= ':4}{d:>8}\\n{'e= ':4}{e:>8}\")\n"
   ]
  },
  {
   "cell_type": "markdown",
   "metadata": {},
   "source": [
    "### [B] Match the following pairs:\n",
    "\n",
    "|statement|Options|\n",
    "|---|---|\n",
    "|a. Default value of sep in print( ) |1. ' '\n",
    "|b. Default value of end in print( ) |2. Using fstring\n",
    "|c. Easiest way to print output |3. Right justify num in 5 columns\n",
    "|d. Return type of split( ) |4. Left justify num in 5 columns\n",
    "|e. print('{num:>5}') |5. list\n",
    "|f. print('{num:<5}') |6. \\n\n",
    "\n",
    "\n",
    "\n",
    "\n",
    "\n",
    "\n",
    "Answer:\n",
    "\n",
    "|statement|Result|\n",
    "|---|---|\n",
    "|a. Default value of sep in print( ) |1. ' '\n",
    "|b. Default value of end in print( ) |6. \\n \n",
    "|c. Easiest way to print output |2. Using fstring\n",
    "|d. Return type of split( ) |5. list \n",
    "|e. print('{num:>5}') |3. Right justify num in 5 columns\n",
    "|f. print('{num:<5}') |4. Left justify num in 5 columns"
   ]
  }
 ],
 "metadata": {
  "kernelspec": {
   "display_name": "Python 3",
   "language": "python",
   "name": "python3"
  },
  "language_info": {
   "codemirror_mode": {
    "name": "ipython",
    "version": 3
   },
   "file_extension": ".py",
   "mimetype": "text/x-python",
   "name": "python",
   "nbconvert_exporter": "python",
   "pygments_lexer": "ipython3",
   "version": "3.10.12"
  }
 },
 "nbformat": 4,
 "nbformat_minor": 2
}
