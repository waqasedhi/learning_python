{
 "cells": [
  {
   "cell_type": "markdown",
   "metadata": {},
   "source": [
    "# [A] Answer the following questions:"
   ]
  },
  {
   "cell_type": "code",
   "execution_count": 2,
   "metadata": {},
   "outputs": [
    {
     "name": "stdout",
     "output_type": "stream",
     "text": [
      "7 8\n",
      "8 7\n"
     ]
    }
   ],
   "source": [
    "'''\n",
    "(a) Write a program that swaps the values of variables a and b. You are\n",
    "not allowed to use a third variable. You are not allowed to perform\n",
    "arithmetic on a and b.\n",
    "'''\n",
    "a = 7\n",
    "b = 8\n",
    "print(a,b)\n",
    "a, b = b , a\n",
    "print(a,b)"
   ]
  },
  {
   "cell_type": "code",
   "execution_count": 3,
   "metadata": {},
   "outputs": [
    {
     "name": "stdout",
     "output_type": "stream",
     "text": [
      "180.0\n"
     ]
    }
   ],
   "source": [
    "'''(b) Write a program that makes use of trigonometric functions\n",
    "available in math module.\n",
    "'''\n",
    "import math , random\n",
    "print(math.degrees(math.pi))\n"
   ]
  },
  {
   "cell_type": "code",
   "execution_count": 6,
   "metadata": {},
   "outputs": [
    {
     "name": "stdout",
     "output_type": "stream",
     "text": [
      "[29, 15, 17, 39, 23]\n"
     ]
    }
   ],
   "source": [
    "'''(c) Write a program that generates 5 random numbers in the range 10\n",
    "to 50. Use a seed value of 6. Make a provision to change this seed\n",
    "value every time you execute the program by associating it with\n",
    "time of execution?\n",
    "'''\n",
    "print(random.sample(range(10,50),5))\n"
   ]
  },
  {
   "cell_type": "code",
   "execution_count": 11,
   "metadata": {},
   "outputs": [
    {
     "name": "stdout",
     "output_type": "stream",
     "text": [
      "-2 0 0 1 2\n",
      "-3 -1 0 1 2\n",
      "-2 0 1 2 3\n"
     ]
    }
   ],
   "source": [
    "'''\n",
    "(d) Use trunc( ), floor( ) and ceil( ) for numbers -2.8, -0.5, 0.2, 1.5 and\n",
    "2.9 to understand the difference between these functions clearly.\n",
    "'''\n",
    "a = -2.8\n",
    "b = -0.5\n",
    "c = 0.2\n",
    "d = 1.5\n",
    "e = 2.9\n",
    "\n",
    "print(math.trunc(a),math.trunc(b), math.trunc(c), math.trunc(d), math.trunc(e))\n",
    "print(math.floor(a), math.floor(b), math.floor(c), math.floor(d), math.floor(e))\n",
    "print(math.ceil(a),math.ceil(b), math.ceil(c), math.ceil(d), math.ceil(e))\n"
   ]
  },
  {
   "cell_type": "code",
   "execution_count": 19,
   "metadata": {},
   "outputs": [
    {
     "name": "stdout",
     "output_type": "stream",
     "text": [
      "37.77777777777778\n"
     ]
    }
   ],
   "source": [
    "'''(e) Assume a suitable value for temperature of a city in Fahrenheit\n",
    "degrees. Write a program to convert this temperature into\n",
    "Centigrade degrees and print both temperatures.\n",
    "'''\n",
    "\n",
    "tem_city = 100\n",
    "tem_in_cent = (tem_city - 32)*5/9\n",
    "print(tem_in_cent)"
   ]
  },
  {
   "cell_type": "code",
   "execution_count": null,
   "metadata": {},
   "outputs": [],
   "source": [
    "'''\n",
    "(f) Given three sides a, b, c of a triangle, write a program to obtain and\n",
    "print the values of three angles rounded to the next integer. Use\n",
    "the formulae:\n",
    "a 2 = b2 + c 2 - 2bc cos A, b2 = a2 + c2 - 2ac cos B, c2 = a2 + b2 - 2ab cos C\n",
    "'''"
   ]
  },
  {
   "cell_type": "markdown",
   "metadata": {},
   "source": [
    "# [B] How will you perform the following operations:"
   ]
  },
  {
   "cell_type": "code",
   "execution_count": 44,
   "metadata": {},
   "outputs": [
    {
     "name": "stdout",
     "output_type": "stream",
     "text": [
      "(a) Imaginary part of (2+3j) is: 3.0\n",
      "(b) Imaginary part of (4+2j) is: (4-2j)\n",
      "(c) this binarry 1100001110 into  782\n",
      "(d) this float value 4.33 into string 4.33\n",
      "(e) the remainder is 4 while dividing 29 with 5.\n",
      "(f) decimal value is 214375 of hexadecimal 34567.\n",
      "(g) 45.6782 round-off is 46.\n",
      "(h) 3.556 round-off is 4.\n",
      "(i) 16.7884 round-off is 17.\n",
      "(e) the remainder is 1.010 while dividing 3.45 with 1.22.\n"
     ]
    }
   ],
   "source": [
    "# (a) Print imaginary part out of 2 + 3j.\n",
    "complex_number = 2 + 3j\n",
    "\n",
    "# Access the imaginary part using .imag attribute\n",
    "imaginary_part = complex_number.imag\n",
    "\n",
    "print(f\"(a) Imaginary part of {complex_number} is: {imaginary_part}\")\n",
    "\n",
    "#(b) Obtain conjugate of 4 + 2j.\n",
    "complex_number2 = 4 + 2j\n",
    "\n",
    "# Access the conjugate part using .imag attribute\n",
    "conjgate_part = complex_number2.conjugate() \n",
    "\n",
    "print(f\"(b) Imaginary part of {complex_number2} is: {conjgate_part}\")\n",
    "\n",
    "# (c) Print decimal equivalent of binary '1100001110'.\n",
    "binary = \"1100001110\"\n",
    "\n",
    "print(f\"(c) this binarry {binary} into  {int(binary, 2)}\")\n",
    "\n",
    "# (d) Convert a float value 4.33 into a numeric string.\n",
    "fl_value = 4.33\n",
    "\n",
    "print(f\"(d) this float value {fl_value} into string {str(fl_value)}\")\n",
    "\n",
    "# (e) Obtain integer quotient and remainder while dividing 29 with 5.\n",
    "value1 = 29\n",
    "value2 = 5\n",
    "print(f\"(e) the remainder is {value1 % value2} while dividing {value1} with {value2}.\")\n",
    "\n",
    "# (f) Obtain hexadecimal equivalent of decimal 34567.\n",
    "hexa_value = \"34567\"\n",
    "\n",
    "print(f\"(f) decimal value is {int(hexa_value, 16)} of hexadecimal {hexa_value}.\")\n",
    "\n",
    "# (g) Round-off 45.6782 to second decimal place.\n",
    "\n",
    "val_g = 45.6782\n",
    "\n",
    "print(f\"(g) {val_g} round-off is {round(val_g)}.\")\n",
    "\n",
    "# (h) Obtain 4 from 3.556.\n",
    "\n",
    "val_h = 3.556\n",
    "\n",
    "print(f\"(h) {val_h} round-off is {round(val_h)}.\")\n",
    "\n",
    "# (i) Obtain 17 from 16.7844.\n",
    "\n",
    "val_i = 16.7884\n",
    "\n",
    "print(f\"(i) {val_i} round-off is {round(val_i)}.\")\n",
    "\n",
    "# (j) Obtain remainder on dividing 3.45 with 1.22.\n",
    "val_j1 = 3.45\n",
    "val_j2 = 1.22\n",
    "print(f\"(e) the remainder is {(val_j1 % val_j2):.3f} while dividing {val_j1} with {val_j2}.\")\n"
   ]
  },
  {
   "cell_type": "markdown",
   "metadata": {},
   "source": [
    "# [C] Which of the following is invalid variable name and why?\n",
    "\n",
    "|variable name | type of variable | why|\n",
    "|:---|:---:|:---:|\n",
    "|BASICSALARY|valid|ok|\n",
    "|_basic|valid|ok|\n",
    "|group.|invalid|use of special charater|\n",
    "|422|invalid|start with number|\n",
    "|timemindovermatter SINGLE|invalid| use space|\n",
    "|team’svictory|invalid|use of special charater|\n",
    "|Plot # 3|invalid|use space & use of special charater|\n",
    "|basic-hra|valid|ok|\n",
    "|pop in 2020|invalid|use space|\n",
    "|hELLO|valid|ok|\n",
    "|2015_DDay|invalid|start with number|"
   ]
  },
  {
   "cell_type": "code",
   "execution_count": 46,
   "metadata": {},
   "outputs": [
    {
     "name": "stdout",
     "output_type": "stream",
     "text": [
      "(a) (2 ** 6 // 8 % 2) evalution is 0\n",
      "(b) (9 ** 2 // 5 - 3) evalution is 13\n",
      "(c) (10 + 6 - 2 % 3 + 7 - 2) evalution is 19\n",
      "(d) (5 % 10 + 10 -23 * 4 // 3) evalution is -15\n",
      "(e) (5 + 5 // 5 - 5 * 5 ** 5 % 5) evalution is 6\n",
      "(f) (7 % 7 + 7 // 7 - 7 * 7) evalution is -48\n"
     ]
    }
   ],
   "source": [
    "# [D] Evaluate the following expressions:\n",
    "\n",
    "# (a) 2 ** 6 // 8 % 2\n",
    "print(f\"(a) (2 ** 6 // 8 % 2) evalution is {2 ** 6 // 8 % 2}\")\n",
    "# (b) 9 ** 2 // 5 - 3\n",
    "print(f\"(b) (9 ** 2 // 5 - 3) evalution is {9 ** 2 // 5 - 3}\")\n",
    "# (c) 10 + 6 - 2 % 3 + 7 - 2\n",
    "print(f\"(c) (10 + 6 - 2 % 3 + 7 - 2) evalution is {10 + 6 - 2 % 3 + 7 - 2}\")\n",
    "# (d) 5 % 10 + 10 -23 * 4 // 3\n",
    "print(f\"(d) (5 % 10 + 10 -23 * 4 // 3) evalution is {5 % 10 + 10 -23 * 4 // 3}\")\n",
    "# (e) 5 + 5 // 5 - 5 * 5 ** 5 % 5\n",
    "print(f\"(e) (5 + 5 // 5 - 5 * 5 ** 5 % 5) evalution is {5 + 5 // 5 - 5 * 5 ** 5 % 5}\")\n",
    "# (f) 7 % 7 + 7 // 7 - 7 * 7\n",
    "print(f\"(f) (7 % 7 + 7 // 7 - 7 * 7) evalution is {7 % 7 + 7 // 7 - 7 * 7}\")\n"
   ]
  },
  {
   "cell_type": "code",
   "execution_count": null,
   "metadata": {},
   "outputs": [],
   "source": []
  }
 ],
 "metadata": {
  "kernelspec": {
   "display_name": "base",
   "language": "python",
   "name": "python3"
  },
  "language_info": {
   "codemirror_mode": {
    "name": "ipython",
    "version": 3
   },
   "file_extension": ".py",
   "mimetype": "text/x-python",
   "name": "python",
   "nbconvert_exporter": "python",
   "pygments_lexer": "ipython3",
   "version": "3.10.12"
  }
 },
 "nbformat": 4,
 "nbformat_minor": 2
}
