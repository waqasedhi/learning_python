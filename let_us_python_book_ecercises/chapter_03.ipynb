{
 "cells": [
  {
   "cell_type": "code",
   "execution_count": 4,
   "metadata": {},
   "outputs": [
    {
     "name": "stdout",
     "output_type": "stream",
     "text": [
      "Index out of range, please enter number between 0 to 6\n"
     ]
    }
   ],
   "source": [
    "lst1 = [\"red\", \"yellow\", \"blue\", \"green\", \"white\", \"black\" ]\n",
    "\n",
    "print(f\"please enter a index number between 0 to {len(lst1)}: \")\n",
    "\n",
    "user_input = input(\"Enter a index number: \")\n",
    "\n",
    "\n",
    "if int(user_input) < len(lst1):\n",
    "    print(lst1[int(user_input)])\n",
    "else:\n",
    "    print(f\"Index out of range, please enter number between 0 to {len(lst1)}\")\n"
   ]
  },
  {
   "cell_type": "code",
   "execution_count": 10,
   "metadata": {},
   "outputs": [
    {
     "name": "stdout",
     "output_type": "stream",
     "text": [
      "this is number 6\n"
     ]
    }
   ],
   "source": [
    "number = input()\n",
    "\n",
    "print(f\"this is number {number}\")"
   ]
  },
  {
   "cell_type": "code",
   "execution_count": null,
   "metadata": {},
   "outputs": [],
   "source": []
  }
 ],
 "metadata": {
  "kernelspec": {
   "display_name": "base",
   "language": "python",
   "name": "python3"
  },
  "language_info": {
   "codemirror_mode": {
    "name": "ipython",
    "version": 3
   },
   "file_extension": ".py",
   "mimetype": "text/x-python",
   "name": "python",
   "nbconvert_exporter": "python",
   "pygments_lexer": "ipython3",
   "version": "3.11.5"
  }
 },
 "nbformat": 4,
 "nbformat_minor": 2
}
