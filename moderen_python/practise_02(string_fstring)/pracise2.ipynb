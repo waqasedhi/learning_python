{
 "cells": [
  {
   "cell_type": "code",
   "execution_count": 1,
   "metadata": {},
   "outputs": [
    {
     "name": "stdout",
     "output_type": "stream",
     "text": [
      "name\n"
     ]
    }
   ],
   "source": [
    "print(\"name\")"
   ]
  },
  {
   "cell_type": "code",
   "execution_count": 2,
   "metadata": {},
   "outputs": [
    {
     "ename": "NameError",
     "evalue": "name 'name' is not defined",
     "output_type": "error",
     "traceback": [
      "\u001b[0;31m---------------------------------------------------------------------------\u001b[0m",
      "\u001b[0;31mNameError\u001b[0m                                 Traceback (most recent call last)",
      "Cell \u001b[0;32mIn[2], line 1\u001b[0m\n\u001b[0;32m----> 1\u001b[0m \u001b[38;5;28mprint\u001b[39m(\u001b[43mname\u001b[49m)\n",
      "\u001b[0;31mNameError\u001b[0m: name 'name' is not defined"
     ]
    }
   ],
   "source": [
    "print(name)\n"
   ]
  },
  {
   "cell_type": "code",
   "execution_count": 4,
   "metadata": {},
   "outputs": [
    {
     "name": "stdout",
     "output_type": "stream",
     "text": [
      "waqas edhi\n"
     ]
    }
   ],
   "source": [
    "name : str = \"waqas edhi\"\n",
    "print(name)\n"
   ]
  },
  {
   "cell_type": "markdown",
   "metadata": {},
   "source": [
    "# String Data type in python"
   ]
  },
  {
   "cell_type": "code",
   "execution_count": 5,
   "metadata": {},
   "outputs": [
    {
     "name": "stdout",
     "output_type": "stream",
     "text": [
      "<class 'str'>\n",
      "waqas edhi\n"
     ]
    }
   ],
   "source": [
    "# boundries\n",
    "# 'string text', \"string text \", '''string text''', \"\"\" string\"\"\"\n",
    "# `string text` type script\n",
    "\n",
    "name : str = \"waqas edhi\"\n",
    "print(type(name))\n",
    "print(name)\n"
   ]
  },
  {
   "cell_type": "code",
   "execution_count": 6,
   "metadata": {},
   "outputs": [
    {
     "name": "stdout",
     "output_type": "stream",
     "text": [
      "<class 'str'>\n",
      "waqas edhi\n"
     ]
    }
   ],
   "source": [
    "# boundries\n",
    "# 'string text', \"string text \", '''string text''', \"\"\" string\"\"\"\n",
    "# `string text` type script\n",
    "\n",
    "name : str = 'waqas edhi'\n",
    "print(type(name))\n",
    "print(name)"
   ]
  },
  {
   "cell_type": "code",
   "execution_count": 7,
   "metadata": {},
   "outputs": [
    {
     "ename": "SyntaxError",
     "evalue": "unterminated string literal (detected at line 1) (4212690934.py, line 1)",
     "output_type": "error",
     "traceback": [
      "\u001b[0;36m  Cell \u001b[0;32mIn[7], line 1\u001b[0;36m\u001b[0m\n\u001b[0;31m    message : str = 'PIAIC Student Card \\n father's Name'\u001b[0m\n\u001b[0m                                                        ^\u001b[0m\n\u001b[0;31mSyntaxError\u001b[0m\u001b[0;31m:\u001b[0m unterminated string literal (detected at line 1)\n"
     ]
    }
   ],
   "source": [
    "message : str = 'PIAIC Student Card \\n father's Name'\n",
    "print(message)"
   ]
  },
  {
   "cell_type": "code",
   "execution_count": 8,
   "metadata": {},
   "outputs": [
    {
     "name": "stdout",
     "output_type": "stream",
     "text": [
      "PIAIC Student Card \n",
      " father's Name\n"
     ]
    }
   ],
   "source": [
    "message : str = \"PIAIC Student Card \\n father's Name\"\n",
    "print(message)"
   ]
  },
  {
   "cell_type": "code",
   "execution_count": 9,
   "metadata": {},
   "outputs": [
    {
     "name": "stdout",
     "output_type": "stream",
     "text": [
      "PIAIC \"Student Card\" \n",
      " father Name\n"
     ]
    }
   ],
   "source": [
    "message : str = 'PIAIC \"Student Card\" \\n father Name'\n",
    "print(message)"
   ]
  },
  {
   "cell_type": "code",
   "execution_count": 10,
   "metadata": {},
   "outputs": [
    {
     "name": "stdout",
     "output_type": "stream",
     "text": [
      "PIAIC Student Card \n",
      " father's Name\n"
     ]
    }
   ],
   "source": [
    "# convert any special character into simple character, place \\ before character\n",
    "message : str = 'PIAIC Student Card \\n father\\'s Name'\n",
    "print(message)"
   ]
  },
  {
   "cell_type": "code",
   "execution_count": 11,
   "metadata": {},
   "outputs": [],
   "source": [
    "message : str = \"PIAIC Student Card \\n father's Name\""
   ]
  },
  {
   "cell_type": "code",
   "execution_count": 12,
   "metadata": {},
   "outputs": [
    {
     "data": {
      "text/plain": [
       "'abc'"
      ]
     },
     "execution_count": 12,
     "metadata": {},
     "output_type": "execute_result"
    }
   ],
   "source": [
    "\"a\" + \"b\" + \"c\""
   ]
  },
  {
   "cell_type": "code",
   "execution_count": 13,
   "metadata": {},
   "outputs": [
    {
     "data": {
      "text/plain": [
       "'a7'"
      ]
     },
     "execution_count": 13,
     "metadata": {},
     "output_type": "execute_result"
    }
   ],
   "source": [
    "\"a\" + \"7\""
   ]
  },
  {
   "cell_type": "code",
   "execution_count": 14,
   "metadata": {},
   "outputs": [
    {
     "ename": "TypeError",
     "evalue": "can only concatenate str (not \"int\") to str",
     "output_type": "error",
     "traceback": [
      "\u001b[0;31m---------------------------------------------------------------------------\u001b[0m",
      "\u001b[0;31mTypeError\u001b[0m                                 Traceback (most recent call last)",
      "Cell \u001b[0;32mIn[14], line 10\u001b[0m\n\u001b[1;32m      7\u001b[0m education : \u001b[38;5;28mstr\u001b[39m \u001b[38;5;241m=\u001b[39m \u001b[38;5;124m\"\u001b[39m\u001b[38;5;124minter\u001b[39m\u001b[38;5;124m\"\u001b[39m\n\u001b[1;32m      8\u001b[0m age : \u001b[38;5;28mint\u001b[39m \u001b[38;5;241m=\u001b[39m \u001b[38;5;241m39\u001b[39m\n\u001b[0;32m---> 10\u001b[0m card : \u001b[38;5;28mstr\u001b[39m \u001b[38;5;241m=\u001b[39m \u001b[38;5;124;43m\"\u001b[39;49m\u001b[38;5;124;43mPIAIC Student Card\u001b[39;49m\u001b[38;5;130;43;01m\\n\u001b[39;49;00m\u001b[38;5;124;43mStudent Name: \u001b[39;49m\u001b[38;5;124;43m\"\u001b[39;49m\u001b[43m \u001b[49m\u001b[38;5;241;43m+\u001b[39;49m\u001b[43m \u001b[49m\u001b[43mname\u001b[49m\u001b[43m \u001b[49m\u001b[38;5;241;43m+\u001b[39;49m\u001b[43m \u001b[49m\u001b[38;5;124;43m\"\u001b[39;49m\u001b[38;5;130;43;01m\\n\u001b[39;49;00m\u001b[38;5;124;43mAge:\u001b[39;49m\u001b[38;5;124;43m\"\u001b[39;49m\u001b[43m \u001b[49m\u001b[38;5;241;43m+\u001b[39;49m\u001b[43m \u001b[49m\u001b[43mage\u001b[49m\n\u001b[1;32m     12\u001b[0m \u001b[38;5;28mprint\u001b[39m(card)\n",
      "\u001b[0;31mTypeError\u001b[0m: can only concatenate str (not \"int\") to str"
     ]
    }
   ],
   "source": [
    "# boundries\n",
    "# 'string text', \"string text \", '''string text''', \"\"\" string\"\"\"\n",
    "# `string text` type script\n",
    "\n",
    "name : str = 'waqas edhi'\n",
    "fname : str = \"jehangeer\"\n",
    "education : str = \"inter\"\n",
    "age : int = 39\n",
    "\n",
    "card : str = \"PIAIC Student Card\\nStudent Name: \" + name + \"\\nAge:\" + age\n",
    "\n",
    "print(card)"
   ]
  },
  {
   "cell_type": "code",
   "execution_count": 15,
   "metadata": {},
   "outputs": [
    {
     "data": {
      "text/plain": [
       "'a7'"
      ]
     },
     "execution_count": 15,
     "metadata": {},
     "output_type": "execute_result"
    }
   ],
   "source": [
    "\"a\" + str(7)"
   ]
  },
  {
   "cell_type": "code",
   "execution_count": 17,
   "metadata": {},
   "outputs": [
    {
     "name": "stdout",
     "output_type": "stream",
     "text": [
      "PIAIC Student Card\n",
      "Student Name: waqas edhi\n",
      "Age:39\n"
     ]
    }
   ],
   "source": [
    "# boundries\n",
    "# 'string text', \"string text \", '''string text''', \"\"\" string\"\"\"\n",
    "# `string text` type script\n",
    "\n",
    "name : str = 'waqas edhi'\n",
    "fname : str = \"jehangeer\"\n",
    "education : str = \"inter\"\n",
    "age : int = 39\n",
    "\n",
    "card : str = \"PIAIC Student Card\\nStudent Name: \" + name + \"\\nAge:\" + str(age)\n",
    "\n",
    "print(card)"
   ]
  },
  {
   "cell_type": "code",
   "execution_count": 18,
   "metadata": {},
   "outputs": [
    {
     "name": "stdout",
     "output_type": "stream",
     "text": [
      "17\n"
     ]
    }
   ],
   "source": [
    "print(7 + 8 + 2)"
   ]
  },
  {
   "cell_type": "markdown",
   "metadata": {},
   "source": [
    "# \"\\\\\" line continue"
   ]
  },
  {
   "cell_type": "code",
   "execution_count": 19,
   "metadata": {},
   "outputs": [
    {
     "name": "stdout",
     "output_type": "stream",
     "text": [
      "17\n"
     ]
    }
   ],
   "source": [
    "print(7 + \\\n",
    "      8 + \\\n",
    "        2)"
   ]
  },
  {
   "cell_type": "code",
   "execution_count": 20,
   "metadata": {},
   "outputs": [
    {
     "name": "stdout",
     "output_type": "stream",
     "text": [
      "PIAIC Student Card\n",
      "Student Name: waqas edhi\n",
      "Age:39\n",
      "Education: inter\n"
     ]
    }
   ],
   "source": [
    "# boundries\n",
    "# 'string text', \"string text \", '''string text''', \"\"\" string\"\"\"\n",
    "# `string text` type script\n",
    "\n",
    "name : str = 'waqas edhi'\n",
    "fname : str = \"jehangeer\"\n",
    "education : str = \"inter\"\n",
    "age : int = 39\n",
    "\n",
    "card : str = \"PIAIC Student Card\\nStudent Name: \" + name +\\\n",
    "\"\\nAge:\" + str(age)+ \"\\n\"+\\\n",
    "\"Education: \" + education\n",
    "\n",
    "print(card)"
   ]
  },
  {
   "cell_type": "markdown",
   "metadata": {},
   "source": [
    "## Define multiline string \"\"\" \"\"\", '''  '''"
   ]
  },
  {
   "cell_type": "code",
   "execution_count": 21,
   "metadata": {},
   "outputs": [
    {
     "name": "stdout",
     "output_type": "stream",
     "text": [
      "\n",
      "PIAIC Student Card\n",
      "Student Name : \n",
      "Father's Name: \n",
      "Age: ......\n",
      "Education : .....\n",
      "\n"
     ]
    }
   ],
   "source": [
    "name : str = 'waqas edhi'\n",
    "fname : str = \"jehangeer\"\n",
    "education : str = \"inter\"\n",
    "age : int = 39\n",
    "\n",
    "\n",
    "card : str = \"\"\"\n",
    "PIAIC Student Card\n",
    "Student Name : \n",
    "Father's Name: \n",
    "Age: ......\n",
    "Education : .....\n",
    "\"\"\"\n",
    "\n",
    "print(card)"
   ]
  },
  {
   "cell_type": "markdown",
   "metadata": {},
   "source": [
    "# F-string python"
   ]
  },
  {
   "cell_type": "code",
   "execution_count": 22,
   "metadata": {},
   "outputs": [
    {
     "name": "stdout",
     "output_type": "stream",
     "text": [
      "\n",
      "PIAIC Student Card\n",
      "Student Name : waqas edhi\n",
      "Father's Name: jehangeer\n",
      "Age: 39\n",
      "Education : inter\n",
      "\n"
     ]
    }
   ],
   "source": [
    "name : str = 'waqas edhi'\n",
    "fname : str = \"jehangeer\"\n",
    "education : str = \"inter\"\n",
    "age : int = 39\n",
    "\n",
    "\n",
    "card : str = f\"\"\"\n",
    "PIAIC Student Card\n",
    "Student Name : {name}\n",
    "Father's Name: {fname}\n",
    "Age: {age}\n",
    "Education : {education}\n",
    "\"\"\"\n",
    "\n",
    "print(card)"
   ]
  },
  {
   "cell_type": "code",
   "execution_count": 23,
   "metadata": {},
   "outputs": [
    {
     "name": "stdout",
     "output_type": "stream",
     "text": [
      "\n",
      "PIAIC Student Card\n",
      "Student Name : waqas edhi\n",
      "Father's Name: jehangeer\n",
      "Age: 39\n",
      "Education : inter\n",
      "\n"
     ]
    }
   ],
   "source": [
    "name : str = 'waqas edhi'\n",
    "fname : str = \"jehangeer\"\n",
    "education : str = \"inter\"\n",
    "age : int = 39\n",
    "\n",
    "\n",
    "card : str = f'''\n",
    "PIAIC Student Card\n",
    "Student Name : {name}\n",
    "Father's Name: {fname}\n",
    "Age: {age}\n",
    "Education : {education}\n",
    "'''\n",
    "\n",
    "print(card)"
   ]
  },
  {
   "cell_type": "code",
   "execution_count": 40,
   "metadata": {},
   "outputs": [
    {
     "ename": "SyntaxError",
     "evalue": "unterminated string literal (detected at line 10) (1462558565.py, line 10)",
     "output_type": "error",
     "traceback": [
      "\u001b[0;36m  Cell \u001b[0;32mIn[40], line 10\u001b[0;36m\u001b[0m\n\u001b[0;31m    Father's Name: {fname}\u001b[0m\n\u001b[0m          ^\u001b[0m\n\u001b[0;31mSyntaxError\u001b[0m\u001b[0;31m:\u001b[0m unterminated string literal (detected at line 10)\n"
     ]
    }
   ],
   "source": [
    "name : str = 'Muhammad Qasim'\n",
    "fname : str = \"Muhammad Aslam\"\n",
    "education : str = \"Master in Data Science\"\n",
    "age : int = 30\n",
    "\n",
    "\n",
    "card : str = `\n",
    "PIAIC Student Card\n",
    "Student Name : {name}\n",
    "Father's Name: {fname}\n",
    "Age: {age}\n",
    "Education : {education}\n",
    "`\n",
    "\n",
    "print(card)"
   ]
  },
  {
   "cell_type": "code",
   "execution_count": 24,
   "metadata": {},
   "outputs": [
    {
     "name": "stdout",
     "output_type": "stream",
     "text": [
      "\n",
      "PIAIC Student Card\n",
      "Student Name : waqas edhi\n",
      "Father's Name: jehangeer\n",
      "Age: 39\n",
      "Education : inter\n",
      "\n",
      "Total 22\n",
      "\n"
     ]
    }
   ],
   "source": [
    "name : str = 'waqas edhi'\n",
    "fname : str = \"jehangeer\"\n",
    "education : str = \"inter\"\n",
    "age : int = 39\n",
    "\n",
    "\n",
    "card : str = f\"\"\"\n",
    "PIAIC Student Card\n",
    "Student Name : {name}\n",
    "Father's Name: {fname}\n",
    "Age: {age}\n",
    "Education : {education}\n",
    "\n",
    "Total {2 + 8 + 9 + 3}\n",
    "\"\"\"\n",
    "\n",
    "print(card)"
   ]
  },
  {
   "cell_type": "markdown",
   "metadata": {},
   "source": [
    "## F-string and Jinja style"
   ]
  },
  {
   "cell_type": "code",
   "execution_count": 25,
   "metadata": {},
   "outputs": [
    {
     "data": {
      "text/plain": [
       "'\\nstudent name waqas edhi\\n'"
      ]
     },
     "execution_count": 25,
     "metadata": {},
     "output_type": "execute_result"
    }
   ],
   "source": [
    "f\"\"\"\n",
    "student name {name}\n",
    "\"\"\"\n"
   ]
  },
  {
   "cell_type": "code",
   "execution_count": 26,
   "metadata": {},
   "outputs": [
    {
     "data": {
      "text/plain": [
       "'\\nstudent name {{name}}\\n'"
      ]
     },
     "execution_count": 26,
     "metadata": {},
     "output_type": "execute_result"
    }
   ],
   "source": [
    "# Jinja Style\n",
    "\"\"\"\n",
    "student name {{name}}\n",
    "\"\"\""
   ]
  },
  {
   "cell_type": "code",
   "execution_count": 27,
   "metadata": {},
   "outputs": [
    {
     "name": "stdout",
     "output_type": "stream",
     "text": [
      "\n",
      "PIAIC Student Card\n",
      "Student Name : waqas edhi\n",
      "Father's Name: jehangeer\n",
      "Age: 39\n",
      "Education : inter\n",
      "\n",
      "\n"
     ]
    }
   ],
   "source": [
    "name : str = 'waqas edhi'\n",
    "fname : str = \"jehangeer\"\n",
    "education : str = \"inter\"\n",
    "age : int = 39\n",
    "\n",
    "card : str = f\"\"\"\n",
    "PIAIC Student Card\n",
    "Student Name : %s\n",
    "Father's Name: %s\n",
    "Age: %d\n",
    "Education : %s\n",
    "\n",
    "\"\"\" % (name, fname, age, education)\n",
    "\n",
    "print(card)\n",
    "\n"
   ]
  },
  {
   "cell_type": "code",
   "execution_count": 28,
   "metadata": {},
   "outputs": [
    {
     "data": {
      "text/plain": [
       "['capitalize',\n",
       " 'casefold',\n",
       " 'center',\n",
       " 'count',\n",
       " 'encode',\n",
       " 'endswith',\n",
       " 'expandtabs',\n",
       " 'find',\n",
       " 'format',\n",
       " 'format_map',\n",
       " 'index',\n",
       " 'isalnum',\n",
       " 'isalpha',\n",
       " 'isascii',\n",
       " 'isdecimal',\n",
       " 'isdigit',\n",
       " 'isidentifier',\n",
       " 'islower',\n",
       " 'isnumeric',\n",
       " 'isprintable',\n",
       " 'isspace',\n",
       " 'istitle',\n",
       " 'isupper',\n",
       " 'join',\n",
       " 'ljust',\n",
       " 'lower',\n",
       " 'lstrip',\n",
       " 'maketrans',\n",
       " 'partition',\n",
       " 'removeprefix',\n",
       " 'removesuffix',\n",
       " 'replace',\n",
       " 'rfind',\n",
       " 'rindex',\n",
       " 'rjust',\n",
       " 'rpartition',\n",
       " 'rsplit',\n",
       " 'rstrip',\n",
       " 'split',\n",
       " 'splitlines',\n",
       " 'startswith',\n",
       " 'strip',\n",
       " 'swapcase',\n",
       " 'title',\n",
       " 'translate',\n",
       " 'upper',\n",
       " 'zfill']"
      ]
     },
     "execution_count": 28,
     "metadata": {},
     "output_type": "execute_result"
    }
   ],
   "source": [
    "[i for i in dir(str) if \"__\" not in i]"
   ]
  },
  {
   "cell_type": "code",
   "execution_count": 29,
   "metadata": {},
   "outputs": [
    {
     "data": {
      "text/plain": [
       "'pakistan value a = 7 and value b = 8'"
      ]
     },
     "execution_count": 29,
     "metadata": {},
     "output_type": "execute_result"
    }
   ],
   "source": [
    "a = 7\n",
    "b = 8\n",
    "# {} place holder\n",
    "#                   0                1          0 1\n",
    "\"pakistan value a = {} and value b = {}\".format(a,b)"
   ]
  },
  {
   "cell_type": "code",
   "execution_count": 30,
   "metadata": {},
   "outputs": [
    {
     "data": {
      "text/plain": [
       "'pakistan value a = 7 and value b = 8'"
      ]
     },
     "execution_count": 30,
     "metadata": {},
     "output_type": "execute_result"
    }
   ],
   "source": [
    "\n",
    "# {} place holder\n",
    "#                   0                1          0 1\n",
    "\"pakistan value a = {} and value b = {}\".format(a,b)"
   ]
  },
  {
   "cell_type": "code",
   "execution_count": 31,
   "metadata": {},
   "outputs": [
    {
     "name": "stdout",
     "output_type": "stream",
     "text": [
      "Waqas edhi\n",
      "waqas edhi\n"
     ]
    }
   ],
   "source": [
    "name : str = \"WaQaS EdHi\"\n",
    "\n",
    "print(name.capitalize())\n",
    "print(name.lower())"
   ]
  },
  {
   "cell_type": "code",
   "execution_count": 32,
   "metadata": {},
   "outputs": [
    {
     "name": "stdout",
     "output_type": "stream",
     "text": [
      "\n",
      "PIAIC Student Card\n",
      "Student Name : waqas edhi\n",
      "Father's Name: jehangeer\n",
      "Age: 39\n",
      "Education : inter\n",
      "\n",
      "Total 22\n",
      "\n"
     ]
    }
   ],
   "source": [
    "name : str = 'waqas edhi'\n",
    "fname : str = \"jehangeer\"\n",
    "education : str = \"inter\"\n",
    "age : int = 39\n",
    "\n",
    "\n",
    "card : str = f\"\"\"\n",
    "PIAIC Student Card\n",
    "Student Name : {name}\n",
    "Father's Name: {fname}\n",
    "Age: {age}\n",
    "Education : {education}\n",
    "\n",
    "Total {2 + 8 + 9 + 3}\n",
    "\"\"\"\n",
    "\n",
    "print(card)"
   ]
  },
  {
   "cell_type": "code",
   "execution_count": 33,
   "metadata": {},
   "outputs": [
    {
     "name": "stdout",
     "output_type": "stream",
     "text": [
      "\n",
      "PIAIC Student Card\n",
      "Student Name : jehangeer\n",
      "Father's Name: waqas edhi\n",
      "Age: inter\n",
      "Education : 39\n",
      "\n"
     ]
    }
   ],
   "source": [
    "name : str = 'waqas edhi'\n",
    "fname : str = \"jehangeer\"\n",
    "education : str = \"inter\"\n",
    "age : int = 39\n",
    "\n",
    "\n",
    "card : str = \"\"\"\n",
    "PIAIC Student Card\n",
    "Student Name : {}\n",
    "Father's Name: {}\n",
    "Age: {}\n",
    "Education : {}\n",
    "\"\"\".format(fname, name, education, age)\n",
    "\n",
    "print(card)"
   ]
  },
  {
   "cell_type": "code",
   "execution_count": 34,
   "metadata": {},
   "outputs": [
    {
     "name": "stdout",
     "output_type": "stream",
     "text": [
      "\n",
      "PIAIC Student Card\n",
      "Student Name : waqas edhi\n",
      "Father's Name: jehangeer\n",
      "Age: 39\n",
      "Education : inter\n",
      "\n"
     ]
    }
   ],
   "source": [
    "name : str = 'waqas edhi'\n",
    "fname : str = \"jehangeer\"\n",
    "education : str = \"inter\"\n",
    "age : int = 39\n",
    "\n",
    "\n",
    "card : str = \"\"\"\n",
    "PIAIC Student Card\n",
    "Student Name : {1}\n",
    "Father's Name: {0}\n",
    "Age: {3}\n",
    "Education : {2}\n",
    "\"\"\".format(fname, name, education, age)\n",
    "#           0      1       2        3\n",
    "\n",
    "print(card)"
   ]
  },
  {
   "cell_type": "code",
   "execution_count": 36,
   "metadata": {},
   "outputs": [
    {
     "name": "stdout",
     "output_type": "stream",
     "text": [
      "\n",
      "PIAIC Student Card\n",
      "Student Name : waqas edhi\n",
      "Father's Name: jehangeer\n",
      "Age: 39\n",
      "Education : inter\n",
      "\n"
     ]
    }
   ],
   "source": [
    "name : str = 'waqas edhi'\n",
    "fname : str = \"jehangeer\"\n",
    "education : str = \"inter\"\n",
    "age : int = 39\n",
    "\n",
    "\n",
    "card : str = \"\"\"\n",
    "PIAIC Student Card\n",
    "Student Name : {a}\n",
    "Father's Name: {b}\n",
    "Age: {c}\n",
    "Education : {d}\n",
    "\"\"\".format(a=name, b=fname, c=age, d=education)\n",
    "\n",
    "\n",
    "print(card)"
   ]
  },
  {
   "cell_type": "markdown",
   "metadata": {},
   "source": [
    "# Recommended below two f-string format"
   ]
  },
  {
   "cell_type": "code",
   "execution_count": 37,
   "metadata": {},
   "outputs": [
    {
     "name": "stdout",
     "output_type": "stream",
     "text": [
      "\n",
      "PIAIC Student Card\n",
      "Student Name : waqas edhi\n",
      "Father's Name: jehangeer\n",
      "Age: 39\n",
      "Education : inter\n",
      "\n"
     ]
    }
   ],
   "source": [
    "name : str = 'waqas edhi'\n",
    "fname : str = \"jehangeer\"\n",
    "education : str = \"inter\"\n",
    "age : int = 39\n",
    "\n",
    "\n",
    "card : str = f\"\"\"\n",
    "PIAIC Student Card\n",
    "Student Name : {name}\n",
    "Father's Name: {fname}\n",
    "Age: {age}\n",
    "Education : {education}\n",
    "\"\"\"\n",
    "\n",
    "print(card)"
   ]
  },
  {
   "cell_type": "code",
   "execution_count": 38,
   "metadata": {},
   "outputs": [
    {
     "name": "stdout",
     "output_type": "stream",
     "text": [
      "My Name is Waqas Edhi\n",
      "15\n"
     ]
    }
   ],
   "source": [
    "student_code : str = \"\"\"\n",
    "print(\"My Name is Waqas Edhi\")\n",
    "a:int = 7\n",
    "b:int = 8\n",
    "print(a + b)\n",
    "\"\"\"\n",
    "\n",
    "exec(student_code)"
   ]
  },
  {
   "cell_type": "markdown",
   "metadata": {},
   "source": [
    "# Explore String methods and attributes\n",
    "\n",
    "pre-define global function we have used\n",
    "* print\n",
    "* type\n",
    "* id\n",
    "* dir\n",
    "* len"
   ]
  },
  {
   "cell_type": "code",
   "execution_count": null,
   "metadata": {},
   "outputs": [],
   "source": []
  },
  {
   "cell_type": "code",
   "execution_count": 39,
   "metadata": {},
   "outputs": [
    {
     "name": "stdout",
     "output_type": "stream",
     "text": [
      "['capitalize', 'casefold', 'center', 'count', 'encode', 'endswith', 'expandtabs', 'find', 'format', 'format_map', 'index', 'isalnum', 'isalpha', 'isascii', 'isdecimal', 'isdigit', 'isidentifier', 'islower', 'isnumeric', 'isprintable', 'isspace', 'istitle', 'isupper', 'join', 'ljust', 'lower', 'lstrip', 'maketrans', 'partition', 'removeprefix', 'removesuffix', 'replace', 'rfind', 'rindex', 'rjust', 'rpartition', 'rsplit', 'rstrip', 'split', 'splitlines', 'startswith', 'strip', 'swapcase', 'title', 'translate', 'upper', 'zfill']\n",
      "47\n"
     ]
    }
   ],
   "source": [
    "a: list[str] = [i for i in dir(str) if \"__\" not in i]\n",
    "print(a)\n",
    "print(len(a))"
   ]
  },
  {
   "cell_type": "code",
   "execution_count": 40,
   "metadata": {},
   "outputs": [
    {
     "name": "stdout",
     "output_type": "stream",
     "text": [
      "Waqas edhi\n"
     ]
    }
   ],
   "source": [
    "name : str = \"WaqAs EdHi\"\n",
    "\n",
    "#variable_name.method()\n",
    "print(name.capitalize())"
   ]
  },
  {
   "cell_type": "code",
   "execution_count": 41,
   "metadata": {},
   "outputs": [
    {
     "name": "stdout",
     "output_type": "stream",
     "text": [
      "WaqAs EdHi\n",
      "waqas edhi\n"
     ]
    }
   ],
   "source": [
    "name : str = \"WaqAs EdHi\"\n",
    "\n",
    "#variable_name.method()\n",
    "print(name)\n",
    "print(name.casefold())"
   ]
  },
  {
   "cell_type": "code",
   "execution_count": 42,
   "metadata": {},
   "outputs": [
    {
     "name": "stdout",
     "output_type": "stream",
     "text": [
      "WaqAs EdHi\n",
      "waqas edhi\n"
     ]
    }
   ],
   "source": [
    "name : str = \"WaqAs EdHi\"\n",
    "\n",
    "#variable_name.method()\n",
    "print(name)\n",
    "print(name.lower())"
   ]
  },
  {
   "cell_type": "code",
   "execution_count": 43,
   "metadata": {},
   "outputs": [
    {
     "data": {
      "text/plain": [
       "'              WaqAs EdHi                '"
      ]
     },
     "metadata": {},
     "output_type": "display_data"
    },
    {
     "data": {
      "text/plain": [
       "'WaqAs EdHi                '"
      ]
     },
     "metadata": {},
     "output_type": "display_data"
    }
   ],
   "source": [
    "name : str = \"              WaqAs EdHi                \"\n",
    "\n",
    "#variable_name.method()\n",
    "display(name)\n",
    "display(name.lstrip())\n"
   ]
  },
  {
   "cell_type": "code",
   "execution_count": 44,
   "metadata": {},
   "outputs": [
    {
     "data": {
      "text/plain": [
       "'              WaqAs EdHi                '"
      ]
     },
     "metadata": {},
     "output_type": "display_data"
    },
    {
     "data": {
      "text/plain": [
       "'              WaqAs EdHi'"
      ]
     },
     "metadata": {},
     "output_type": "display_data"
    }
   ],
   "source": [
    "name : str = \"              WaqAs EdHi                \"\n",
    "\n",
    "#variable_name.method()\n",
    "display(name)\n",
    "display(name.rstrip())"
   ]
  },
  {
   "cell_type": "code",
   "execution_count": 45,
   "metadata": {},
   "outputs": [
    {
     "data": {
      "text/plain": [
       "'              WaqAs EdHi                '"
      ]
     },
     "metadata": {},
     "output_type": "display_data"
    },
    {
     "data": {
      "text/plain": [
       "'WaqAs EdHi'"
      ]
     },
     "metadata": {},
     "output_type": "display_data"
    }
   ],
   "source": [
    "name : str = \"              WaqAs EdHi                \"\n",
    "\n",
    "#variable_name.method()\n",
    "display(name)\n",
    "display(name.strip())"
   ]
  },
  {
   "cell_type": "code",
   "execution_count": 46,
   "metadata": {},
   "outputs": [
    {
     "data": {
      "text/plain": [
       "'              WaqAs      EdHi                '"
      ]
     },
     "metadata": {},
     "output_type": "display_data"
    },
    {
     "data": {
      "text/plain": [
       "'WaqAs      EdHi'"
      ]
     },
     "metadata": {},
     "output_type": "display_data"
    }
   ],
   "source": [
    "name : str = \"              WaqAs      EdHi                \"\n",
    "\n",
    "#variable_name.method()\n",
    "display(name)\n",
    "display(name.strip())"
   ]
  },
  {
   "cell_type": "code",
   "execution_count": 47,
   "metadata": {},
   "outputs": [
    {
     "data": {
      "text/plain": [
       "'              WaqAs     EdHi                '"
      ]
     },
     "metadata": {},
     "output_type": "display_data"
    },
    {
     "data": {
      "text/plain": [
       "'WaqAs EdHi'"
      ]
     },
     "metadata": {},
     "output_type": "display_data"
    }
   ],
   "source": [
    "import re\n",
    "\n",
    "name : str = \"              WaqAs     EdHi                \"\n",
    "\n",
    "display(name)\n",
    "\n",
    "name1 : str = re.sub(' {2,100}',' ', name).strip()\n",
    "display(name1)"
   ]
  },
  {
   "cell_type": "code",
   "execution_count": 48,
   "metadata": {},
   "outputs": [
    {
     "data": {
      "text/plain": [
       "'WaqAs EdHi'"
      ]
     },
     "metadata": {},
     "output_type": "display_data"
    },
    {
     "data": {
      "text/plain": [
       "'Waqas Edhi'"
      ]
     },
     "metadata": {},
     "output_type": "display_data"
    }
   ],
   "source": [
    "name : str = \"WaqAs EdHi\"\n",
    "\n",
    "#variable_name.method()\n",
    "display(name)\n",
    "display(name.title())"
   ]
  },
  {
   "cell_type": "code",
   "execution_count": 50,
   "metadata": {},
   "outputs": [
    {
     "name": "stdout",
     "output_type": "stream",
     "text": [
      "ADA LOVELACE\n",
      "ada lovelace\n"
     ]
    }
   ],
   "source": [
    "name:str = \"Ada Lovelace\"\n",
    "print(name.upper())\n",
    "print(name.lower())"
   ]
  },
  {
   "cell_type": "code",
   "execution_count": 51,
   "metadata": {},
   "outputs": [
    {
     "ename": "SyntaxError",
     "evalue": "unexpected character after line continuation character (2003590270.py, line 1)",
     "output_type": "error",
     "traceback": [
      "\u001b[0;36m  Cell \u001b[0;32mIn[51], line 1\u001b[0;36m\u001b[0m\n\u001b[0;31m    \\n\u001b[0m\n\u001b[0m     ^\u001b[0m\n\u001b[0;31mSyntaxError\u001b[0m\u001b[0;31m:\u001b[0m unexpected character after line continuation character\n"
     ]
    }
   ],
   "source": [
    "\\n\n",
    "\\t\n",
    "\\b"
   ]
  },
  {
   "cell_type": "code",
   "execution_count": 49,
   "metadata": {},
   "outputs": [
    {
     "name": "stdout",
     "output_type": "stream",
     "text": [
      "Name:\t\t Waqas Edhi\n"
     ]
    }
   ],
   "source": [
    "print(\"Name:\\t\\t Waqas Edhi\")"
   ]
  },
  {
   "cell_type": "code",
   "execution_count": 52,
   "metadata": {},
   "outputs": [
    {
     "name": "stdout",
     "output_type": "stream",
     "text": [
      "Name:\n",
      "Waqas Edhi\n"
     ]
    }
   ],
   "source": [
    "print(\"Name:\\nWaqas Edhi\")"
   ]
  },
  {
   "cell_type": "code",
   "execution_count": 53,
   "metadata": {},
   "outputs": [
    {
     "name": "stdout",
     "output_type": "stream",
     "text": [
      "NameWaqas Edhi\n"
     ]
    }
   ],
   "source": [
    "print(\"Name:\\bWaqas Edhi\")"
   ]
  },
  {
   "cell_type": "code",
   "execution_count": 54,
   "metadata": {},
   "outputs": [
    {
     "data": {
      "text/plain": [
       "'nostarch.com'"
      ]
     },
     "execution_count": 54,
     "metadata": {},
     "output_type": "execute_result"
    }
   ],
   "source": [
    "nostarch_url:str = 'https://nostarch.com'\n",
    "nostarch_url.removeprefix('https://')"
   ]
  },
  {
   "cell_type": "code",
   "execution_count": 55,
   "metadata": {},
   "outputs": [
    {
     "ename": "SyntaxError",
     "evalue": "invalid decimal literal (2768421632.py, line 1)",
     "output_type": "error",
     "traceback": [
      "\u001b[0;36m  Cell \u001b[0;32mIn[55], line 1\u001b[0;36m\u001b[0m\n\u001b[0;31m    1name : str = \"Edhi\"\u001b[0m\n\u001b[0m    ^\u001b[0m\n\u001b[0;31mSyntaxError\u001b[0m\u001b[0;31m:\u001b[0m invalid decimal literal\n"
     ]
    }
   ],
   "source": [
    "1name : str = \"Edhi\"\n",
    "print(1name)"
   ]
  },
  {
   "cell_type": "code",
   "execution_count": 56,
   "metadata": {},
   "outputs": [
    {
     "name": "stdout",
     "output_type": "stream",
     "text": [
      "Edhi\n"
     ]
    }
   ],
   "source": [
    "_1name : str = \"Edhi\"\n",
    "print(_1name)"
   ]
  },
  {
   "cell_type": "code",
   "execution_count": 57,
   "metadata": {},
   "outputs": [
    {
     "ename": "SyntaxError",
     "evalue": "invalid syntax (1024471356.py, line 1)",
     "output_type": "error",
     "traceback": [
      "\u001b[0;36m  Cell \u001b[0;32mIn[57], line 1\u001b[0;36m\u001b[0m\n\u001b[0;31m    piaic student name : str = \"Waqas Edhi\"\u001b[0m\n\u001b[0m          ^\u001b[0m\n\u001b[0;31mSyntaxError\u001b[0m\u001b[0;31m:\u001b[0m invalid syntax\n"
     ]
    }
   ],
   "source": [
    "piaic student name : str = \"Waqas Edhi\"\n",
    "print(piaic student name)"
   ]
  },
  {
   "cell_type": "code",
   "execution_count": 58,
   "metadata": {},
   "outputs": [
    {
     "name": "stdout",
     "output_type": "stream",
     "text": [
      "Waqas Edhi\n"
     ]
    }
   ],
   "source": [
    "piaic_student_name : str = \"Waqas Edhi\"\n",
    "print(piaic_student_name)"
   ]
  },
  {
   "cell_type": "code",
   "execution_count": null,
   "metadata": {},
   "outputs": [],
   "source": []
  }
 ],
 "metadata": {
  "kernelspec": {
   "display_name": "py12",
   "language": "python",
   "name": "python3"
  },
  "language_info": {
   "codemirror_mode": {
    "name": "ipython",
    "version": 3
   },
   "file_extension": ".py",
   "mimetype": "text/x-python",
   "name": "python",
   "nbconvert_exporter": "python",
   "pygments_lexer": "ipython3",
   "version": "3.10.12"
  },
  "orig_nbformat": 4
 },
 "nbformat": 4,
 "nbformat_minor": 2
}
